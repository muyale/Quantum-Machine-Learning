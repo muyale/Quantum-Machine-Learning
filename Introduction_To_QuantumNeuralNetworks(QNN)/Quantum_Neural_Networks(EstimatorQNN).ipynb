{
 "cells": [
  {
   "cell_type": "markdown",
   "id": "9f1864bb",
   "metadata": {},
   "source": [
    "# Quantum Computing\n",
    "For years on End in the physics field there have been studies in quantum mechanics .The idea of objects existing in two\n",
    "places at a the same point in time is more thought provoking than it is mind blowing. Great physicists such as Roger Penrose,\n",
    "Albert Einsten,Stephen Hawking ,Kip Thorne have dedicated their years to study this. Phenomena such as Quantum Entanglement\n",
    "have been proven to be indeed true.\n",
    "The field of Computing has borrowed from these Ideas and expounded on the idea of bits to come up with qubits.Quantum computers\n",
    "exhibit the quantum mechanics phenomena and perfom physical simulations using qubits as their basic units\n",
    "\n",
    "The main difference between a qubit and a bit is that a qubit can exist as a [0 1] while a classic bit can only exist as either \n",
    " 1 or 0 "
   ]
  },
  {
   "cell_type": "markdown",
   "id": "0eef8695",
   "metadata": {},
   "source": [
    "# QUANTUM MACHINE LEARNING AND QUANTUM NEURAL NETWORKS ,QISKIT"
   ]
  },
  {
   "cell_type": "markdown",
   "id": "60d72def",
   "metadata": {},
   "source": [
    "# Quantum Machine Learning\n",
    "\n",
    "Quantum Machine Learning  is an algorithm that integrates nothing from quantum computing and classic machine learning to open \n",
    "the way for new and improved learning schemes.These algorithms utilizes qubits and quantum operations or special quantum\n",
    "systems to improve computations of data \n",
    " \n",
    " # Quantum Neural Networks \n",
    " \n",
    " Quantum Neural Networks  have similarities to the classical machine learning algorithms that are trained to find hidden\n",
    " patterns in data.\n",
    " These Neural Networks combine classical neural networks and pretrained quantum circuits ,they do this by loading\n",
    " the inputs usually (classical data) into a quantum state and process it with quantum gates parametrized by trainable weights.\n",
    " \n",
    " # What next after quantum state?\n",
    " After the circuits are parametrized into quantum states ,what follows is converting them into variational circuits using classical inputs after mapping them .\n",
    "# Qiskit  library \n",
    "Developed by IBM Research ,the library has been written in python and is used to run  simulations on either a local machine or \n",
    "a quantum computer in the cloud.It is used to integrate data into basic QML(Quantum Machine Learning) workflows\n"
   ]
  },
  {
   "cell_type": "markdown",
   "id": "1439cb69",
   "metadata": {},
   "source": [
    "# INSTALLATION AND HOW TO GO ABOUT IT "
   ]
  },
  {
   "cell_type": "raw",
   "id": "2b508116",
   "metadata": {},
   "source": [
    "\n",
    "To install in jupiter notebook type the following command\n",
    "!pip install qiskit \n",
    "\n",
    "Also to plot results on matplotlib ,install   pylatexenc\n",
    "! pip install  pylatexenc\n",
    " \n",
    "#What mapping features looks like,Qiskit code flow\n",
    "import qiskit\n",
    "import pylatexenc\n",
    "from qiskit import QuantumRegister,ClassicalRegister,QuantumRegister\n",
    "q = QuantumRegister(N)\n",
    "c = ClassicalRegister(1)\n",
    "qc = QuantumCircuit(q,c)\n",
    " \n",
    " \n",
    " def map_features(x):\n",
    "    q = QuantumRegister(5)\n",
    "    # 22 is the number of features that we need to map \n",
    "    c = ClassicalRegister(1)\n",
    "    qc = QuantumCircuit(q,c)\n",
    "    for i,x in enumerate(x):\n",
    "        qc.rx(x,1)\n",
    "    return qc,c\n",
    "    \n",
    " def variational_circuits(qc, thetha):\n",
    "    # thetha is the angle of rotation of our cubits\n",
    "    for i in range(N-1):\n",
    "        qc.cnot(i,i+1)\n",
    "    qc.cnot(N-1,0)\n",
    "    for i in range(N):\n",
    "        qc.ry(thetha[i],i)\n",
    "    return q\n",
    "\n",
    "The idea is to load our data into quantum state,and perfom simulations and predictions with variational circuits.\n",
    "Whats more interesting is that we actually use angles and rotating cubits to make predictions ! Awesome ,ain't it?"
   ]
  },
  {
   "cell_type": "markdown",
   "id": "e3b9a21a",
   "metadata": {},
   "source": [
    "# QISKIT MODULE \n",
    "# qiskit machine learning\n",
    "The algorithms in the qiskit-machine-learning  are meant as application-agnostic computational units \n",
    "The module contains an interface and two specific implementations\n",
    "The interface is a class where all QNNS inherit from ,more like nn.Module class in Pytorch.\n",
    "\n",
    "The Implementations are of two types ,Estimator QNN and Sample QNN\n",
    "The Estimator QNN are a group of variables based on the evaluation of quantum mechanical variables \n",
    "The Sampler QNN on the other hand are networks based on the samples resulting from measuring a quantum circuit\n",
    "\n",
    "# qiskit primitives\n",
    "The above implementations are based on primitives .Primitives are the entry points into a simulator or quantum computer hardwares.Each implementation takes an instance of the corresponding primitive.\n",
    "The Estimator QNN subclasses(Base Estimator) while The Sampler QNN subclasses(Base Sampler ) respectively.\n",
    "\n",
    "Like the pytorch Neural Networks ,QNN Class performs a forward and backward pass given a set of inputs and trainable weights "
   ]
  },
  {
   "cell_type": "markdown",
   "id": "adc7ca58",
   "metadata": {},
   "source": [
    "# ESTIMATOR QNN :: \n",
    "\n",
    "The Estimator QNN is based on the evaluation of quantum variables .This subclass takes in a parametrized quantum circuit \n",
    "as input as well as an optional quantum mechanical observable  and outputs expectation values in the forward pass ."
   ]
  },
  {
   "cell_type": "code",
   "execution_count": 24,
   "id": "d4ba3441",
   "metadata": {},
   "outputs": [],
   "source": [
    "# Installing qiskit and the qnn class \n",
    "import qiskit\n",
    "from qiskit import QuantumCircuit\n",
    "from qiskit.circuit import Parameter\n",
    "from qiskit.utils import algorithm_globals\n",
    "algorithm_globals.random_seed = 42\n",
    "# initializing random weights "
   ]
  },
  {
   "cell_type": "code",
   "execution_count": 25,
   "id": "64709074",
   "metadata": {},
   "outputs": [],
   "source": [
    "# Instantiating our variables\n",
    "qc = QuantumCircuit(1)\n",
    "qc.h(0)\n",
    "parameters  = [Parameter(\"input1\"),Parameter(\"weight1\"),Parameter(\"Height\")]"
   ]
  },
  {
   "cell_type": "code",
   "execution_count": 26,
   "id": "2512243e",
   "metadata": {},
   "outputs": [
    {
     "data": {
      "text/plain": [
       "<qiskit.circuit.instructionset.InstructionSet at 0x1810aa1f550>"
      ]
     },
     "execution_count": 26,
     "metadata": {},
     "output_type": "execute_result"
    }
   ],
   "source": [
    "# We need to set a random seed so our values dont change \n",
    "import random\n",
    "random.seed(42)\n",
    "qc.ry(parameters[0],0)\n",
    "qc.rx(parameters[1],0) "
   ]
  },
  {
   "cell_type": "code",
   "execution_count": 27,
   "id": "26a757b4",
   "metadata": {},
   "outputs": [
    {
     "data": {
      "image/png": "[encoded data removed]",
      "text/plain": [
       "<Figure size 352.675x117.056 with 1 Axes>"
      ]
     },
     "execution_count": 27,
     "metadata": {},
     "output_type": "execute_result"
    }
   ],
   "source": [
    "# plotting out our values\n",
    "qc.draw(\"mpl\")"
   ]
  },
  {
   "cell_type": "markdown",
   "id": "156061ba",
   "metadata": {},
   "source": [
    "# Estimator QNN Observable\n",
    "This Network expect us to have an observable whic we  can use to define  an expectation  value.The good thing is that even if we fail to create an observable ,the network creates on for us by default.\n",
    "However we  can create oneby using the SparsePauliOp"
   ]
  },
  {
   "cell_type": "code",
   "execution_count": 28,
   "id": "ab9683fc",
   "metadata": {},
   "outputs": [],
   "source": [
    "# import SparsePauliOp\n",
    "from qiskit.quantum_info import SparsePauliOp"
   ]
  },
  {
   "cell_type": "code",
   "execution_count": 29,
   "id": "992b75b1",
   "metadata": {},
   "outputs": [],
   "source": [
    "# create an observable\n",
    "observable = SparsePauliOp.from_list([('Y'*qc.num_qubits,1)])"
   ]
  },
  {
   "cell_type": "code",
   "execution_count": 30,
   "id": "07603693",
   "metadata": {},
   "outputs": [
    {
     "name": "stdout",
     "output_type": "stream",
     "text": [
      "Requirement already satisfied: qiskit_machine_learning in c:\\users\\edgar muyale davies\\anaconda3\\anaconda\\lib\\site-packages (0.6.1)\n",
      "Requirement already satisfied: scikit-learn>=0.20.0 in c:\\users\\edgar muyale davies\\anaconda3\\anaconda\\lib\\site-packages (from qiskit_machine_learning) (1.0.2)\n",
      "Requirement already satisfied: scipy>=1.4 in c:\\users\\edgar muyale davies\\anaconda3\\anaconda\\lib\\site-packages (from qiskit_machine_learning) (1.9.1)\n",
      "Requirement already satisfied: fastdtw in c:\\users\\edgar muyale davies\\anaconda3\\anaconda\\lib\\site-packages (from qiskit_machine_learning) (0.3.4)\n",
      "Requirement already satisfied: psutil>=5 in c:\\users\\edgar muyale davies\\anaconda3\\anaconda\\lib\\site-packages (from qiskit_machine_learning) (5.9.0)\n",
      "Requirement already satisfied: dill>=0.3.4 in c:\\users\\edgar muyale davies\\anaconda3\\anaconda\\lib\\site-packages (from qiskit_machine_learning) (0.3.4)\n",
      "Requirement already satisfied: numpy>=1.17 in c:\\users\\edgar muyale davies\\anaconda3\\anaconda\\lib\\site-packages (from qiskit_machine_learning) (1.21.5)\n",
      "Requirement already satisfied: qiskit-terra>=0.22.2 in c:\\users\\edgar muyale davies\\anaconda3\\anaconda\\lib\\site-packages (from qiskit_machine_learning) (0.24.2)\n",
      "Requirement already satisfied: setuptools>=40.1.0 in c:\\users\\edgar muyale davies\\anaconda3\\anaconda\\lib\\site-packages (from qiskit_machine_learning) (63.4.1)\n",
      "Requirement already satisfied: ply>=3.10 in c:\\users\\edgar muyale davies\\anaconda3\\anaconda\\lib\\site-packages (from qiskit-terra>=0.22.2->qiskit_machine_learning) (3.11)\n",
      "Requirement already satisfied: sympy>=1.3 in c:\\users\\edgar muyale davies\\anaconda3\\anaconda\\lib\\site-packages (from qiskit-terra>=0.22.2->qiskit_machine_learning) (1.10.1)\n",
      "Requirement already satisfied: rustworkx>=0.12.0 in c:\\users\\edgar muyale davies\\anaconda3\\anaconda\\lib\\site-packages (from qiskit-terra>=0.22.2->qiskit_machine_learning) (0.13.0)\n",
      "Requirement already satisfied: python-dateutil>=2.8.0 in c:\\users\\edgar muyale davies\\anaconda3\\anaconda\\lib\\site-packages (from qiskit-terra>=0.22.2->qiskit_machine_learning) (2.8.2)\n",
      "Requirement already satisfied: stevedore>=3.0.0 in c:\\users\\edgar muyale davies\\anaconda3\\anaconda\\lib\\site-packages (from qiskit-terra>=0.22.2->qiskit_machine_learning) (5.1.0)\n",
      "Requirement already satisfied: joblib>=0.11 in c:\\users\\edgar muyale davies\\anaconda3\\anaconda\\lib\\site-packages (from scikit-learn>=0.20.0->qiskit_machine_learning) (1.1.0)\n",
      "Requirement already satisfied: threadpoolctl>=2.0.0 in c:\\users\\edgar muyale davies\\anaconda3\\anaconda\\lib\\site-packages (from scikit-learn>=0.20.0->qiskit_machine_learning) (2.2.0)\n",
      "Requirement already satisfied: six>=1.5 in c:\\users\\edgar muyale davies\\anaconda3\\anaconda\\lib\\site-packages (from python-dateutil>=2.8.0->qiskit-terra>=0.22.2->qiskit_machine_learning) (1.16.0)\n",
      "Requirement already satisfied: pbr!=2.1.0,>=2.0.0 in c:\\users\\edgar muyale davies\\anaconda3\\anaconda\\lib\\site-packages (from stevedore>=3.0.0->qiskit-terra>=0.22.2->qiskit_machine_learning) (5.11.1)\n",
      "Requirement already satisfied: mpmath>=0.19 in c:\\users\\edgar muyale davies\\anaconda3\\anaconda\\lib\\site-packages (from sympy>=1.3->qiskit-terra>=0.22.2->qiskit_machine_learning) (1.2.1)\n"
     ]
    }
   ],
   "source": [
    "!pip install qiskit_machine_learning"
   ]
  },
  {
   "cell_type": "code",
   "execution_count": 31,
   "id": "de32735f",
   "metadata": {},
   "outputs": [
    {
     "data": {
      "text/plain": [
       "<qiskit_machine_learning.neural_networks.estimator_qnn.EstimatorQNN at 0x1810aaba6a0>"
      ]
     },
     "execution_count": 31,
     "metadata": {},
     "output_type": "execute_result"
    }
   ],
   "source": [
    "#importing Estimator QNN\n",
    "# Estimator QNN subclasses the QNN class\n",
    "from qiskit_machine_learning.neural_networks import EstimatorQNN\n",
    "estimator_qnn = EstimatorQNN(circuit=qc,observables=observable,input_params=[parameters[0]],weight_params=[parameters[1]])\n",
    "estimator_qnn"
   ]
  },
  {
   "cell_type": "markdown",
   "id": "9ec1f861",
   "metadata": {},
   "source": [
    "# FORWARD PASS FOR ESTIMATOR QNN\n",
    "# Basic Forward Pass"
   ]
  },
  {
   "cell_type": "code",
   "execution_count": 33,
   "id": "bb32b465",
   "metadata": {},
   "outputs": [
    {
     "name": "stdout",
     "output_type": "stream",
     "text": [
      "Results from the Forward Pass[[0.48610038]]and the shape is (1, 1)\n"
     ]
    }
   ],
   "source": [
    "estimator_qnn_input =algorithm_globals.random.random(estimator_qnn.num_inputs)\n",
    "estimator_qnn_weights = algorithm_globals.random.random(estimator_qnn.num_weights)\n",
    "estimator_qnn_forward =estimator_qnn.forward(estimator_qnn_input,estimator_qnn_weights)\n",
    "\n",
    "print(f\"Results from the Forward Pass{estimator_qnn_forward}and the shape is {estimator_qnn_forward.shape}\")"
   ]
  },
  {
   "cell_type": "markdown",
   "id": "2c835eaf",
   "metadata": {},
   "source": [
    "# Batched Forward Pass"
   ]
  },
  {
   "cell_type": "code",
   "execution_count": 35,
   "id": "68340e91",
   "metadata": {},
   "outputs": [
    {
     "name": "stdout",
     "output_type": "stream",
     "text": [
      "Results from the Forward Pass(2, 1)and the shape is (2, 1)\n"
     ]
    }
   ],
   "source": [
    "estimator_qnn_forward_batched =estimator_qnn.forward([estimator_qnn_input,estimator_qnn_weights],estimator_qnn_weights)\n",
    "print(f\"Results from the Forward Pass{estimator_qnn_forward_batched.shape}and the shape is {estimator_qnn_forward_batched.shape}\")"
   ]
  },
  {
   "cell_type": "markdown",
   "id": "104ef4c6",
   "metadata": {},
   "source": [
    "# REFERENCES\n",
    "\n",
    "https://qiskit.org/ecosystem/machine-learning/tutorials/01_neural_networks.html  : date accesed 28/7/2023\n",
    "https://en.wikipedia.org/wiki/Quantum_machine_learning"
   ]
  },
  {
   "cell_type": "code",
   "execution_count": null,
   "id": "d0113694",
   "metadata": {},
   "outputs": [],
   "source": []
  }
 ],
 "metadata": {
  "kernelspec": {
   "display_name": "Python 3 (ipykernel)",
   "language": "python",
   "name": "python3"
  },
  "language_info": {
   "codemirror_mode": {
    "name": "ipython",
    "version": 3
   },
   "file_extension": ".py",
   "mimetype": "text/x-python",
   "name": "python",
   "nbconvert_exporter": "python",
   "pygments_lexer": "ipython3",
   "version": "3.9.13"
  }
 },
 "nbformat": 4,
 "nbformat_minor": 5
}
