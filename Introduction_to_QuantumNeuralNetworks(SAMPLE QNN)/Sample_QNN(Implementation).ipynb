{
 "cells": [
  {
   "cell_type": "markdown",
   "id": "99a85748",
   "metadata": {},
   "source": [
    "# SAMPLER QNN\n",
    "Sampler QNN is a neural network in the qiskit_machine_learning library.It optionally requires the sampler primitive .\n",
    "What makes it different?  Unlike the Estimator QNN it excludes the need for observables and feeds of from the samples provided in the quantum circuit.The network is based on the samples resulting from measuring the quantum circuit.\n",
    "\n",
    "The Sampler QNN requires us to specify an interpret function to post pocess our samples.The function enables the network to infer the output.The downside of not using an interpret function is that the probability vector scales exponentially.\n",
    "\n",
    "This Notebook ,introduces you to the basics of a sampler qnn,declaring inputs and weights and finally shows you how to perform\n",
    "a Forward Pass."
   ]
  },
  {
   "cell_type": "code",
   "execution_count": 6,
   "id": "b9d441ad",
   "metadata": {},
   "outputs": [],
   "source": [
    "#importing Dependencies\n",
    "import qiskit \n",
    "import pylatexenc\n",
    "from qiskit import QuantumCircuit,QuantumRegister,ClassicalRegister\n",
    "from qiskit.circuit import ParameterVector,Parameter # Used for creating input and weight parameters\n",
    "from qiskit_machine_learning.neural_networks import SamplerQNN\n",
    "from qiskit.utils import algorithm_globals # For Reproducability\n",
    "algorithm_globals.random_seed= 42 "
   ]
  },
  {
   "cell_type": "code",
   "execution_count": 12,
   "id": "881871c3",
   "metadata": {},
   "outputs": [
    {
     "data": {
      "image/png": "[encoded data removed]",
      "text/plain": [
       "<Figure size 287.294x200.667 with 1 Axes>"
      ]
     },
     "execution_count": 12,
     "metadata": {},
     "output_type": "execute_result"
    }
   ],
   "source": [
    "# Creating our circuit and then input and weight vectors\n",
    "q = QuantumRegister(2)\n",
    "c = ClassicalRegister(2)\n",
    "qc = QuantumCircuit(2)\n",
    "inputs = ParameterVector(\"input\",3)\n",
    "weights = ParameterVector(\"weight\",6)\n",
    "qc.ry = (inputs[0],0)\n",
    "qc.ry =(inputs[1],1)\n",
    "qc.rx = (inputs[2],2)\n",
    "qc.cx(0,1)\n",
    "qc.ry = (weights[0],0)\n",
    "qc.rx = (weights[1],1)\n",
    "qc.ry = (weights[2],2)\n",
    "qc.cx(0,1)\n",
    "qc.ry = (weights[2],0)\n",
    "qc.rx = (weights[3],1)\n",
    "qc.ry= (weights[4],2)\n",
    "qc.draw(\"mpl\")"
   ]
  },
  {
   "cell_type": "markdown",
   "id": "cba58c8b",
   "metadata": {},
   "source": [
    "# SAMPLER QNN :: INSTANTIATE + FORWARD PASS"
   ]
  },
  {
   "cell_type": "raw",
   "id": "67ab6dc8",
   "metadata": {},
   "source": [
    "# Before We do a forward pass ,I'd like to explain what is happening exactly\n",
    "the Sampler QNN() takes some parameters \n",
    "* input_parameters  = this is the list of quantum circuits taken as inputs \n",
    "* weight_params  = these are the models weights or a list of quantum circuits treated as weights \n",
    "* circuit - this is the Quantum Circuit that has all the inputs and weights\n",
    "*interpret  -allows us to define a function ,if we wish to control the output probabilities\n",
    "* input_gradients\n",
    "*output_shape - depending on whether or not we declare an interpret function ,the output shape will vary ;\n",
    " The output shape without an interpret function will be set as (2**num_qubits),\n",
    " The output  shape with a function defaults with (1,output_shape),1 is the  number of samples\n",
    " \n",
    "The QNN requires no observables ,the samples are fed directly to it form the quantumcircuit\n"
   ]
  },
  {
   "cell_type": "code",
   "execution_count": 13,
   "id": "593af57f",
   "metadata": {},
   "outputs": [],
   "source": [
    "s_qnn = SamplerQNN(circuit=qc,input_params=inputs,weight_params =weights)\n",
    "# Creating dummy inputs using algorithm globals\n",
    "s_qnn_input = algorithm_globals.random.random(s_qnn.num_inputs)\n",
    "s_qnn_weights = algorithm_globals.random.random(s_qnn.num_weights)"
   ]
  },
  {
   "cell_type": "code",
   "execution_count": 14,
   "id": "a3bd064d",
   "metadata": {},
   "outputs": [
    {
     "name": "stdout",
     "output_type": "stream",
     "text": [
      "The total number of input_features for our Sampler QNN are 3|\n",
      "input[0.45038594 0.37079802 0.92676499]\n",
      "The total number of weigths for our Sampler QNN are 6|\n",
      "weights [0.64386512 0.82276161 0.4434142  0.22723872 0.55458479 0.06381726]\n"
     ]
    }
   ],
   "source": [
    "# lETS SEE ,WHICH ARE OUR TARINABLE INPUTS AND WEIGHTS \n",
    "print(f\"The total number of input_features for our Sampler QNN are {s_qnn.num_inputs}|\\ninput{s_qnn_input}\")\n",
    "print(f\"The total number of weigths for our Sampler QNN are {s_qnn.num_weights}|\\nweights {s_qnn_weights}\")"
   ]
  },
  {
   "cell_type": "markdown",
   "id": "52605eb3",
   "metadata": {},
   "source": [
    "# FORWARD PASS"
   ]
  },
  {
   "cell_type": "code",
   "execution_count": null,
   "id": "748f87ab",
   "metadata": {},
   "outputs": [],
   "source": [
    "# Forward Pass\n",
    "s_qnn_forward = s_qnn.forward(s_qnn_input,s_qnn_weights)\n",
    "s_qnn_forward"
   ]
  },
  {
   "cell_type": "code",
   "execution_count": null,
   "id": "f513e0da",
   "metadata": {},
   "outputs": [],
   "source": [
    "len(inputs),len(weights),len(qc)"
   ]
  },
  {
   "cell_type": "markdown",
   "id": "a33930e4",
   "metadata": {},
   "source": [
    "# REFERENCES \n",
    "https://qiskit.org/ecosystem/machine-learning/tutorials/01_neural_networks.html"
   ]
  },
  {
   "cell_type": "code",
   "execution_count": null,
   "id": "e125e016",
   "metadata": {},
   "outputs": [],
   "source": []
  }
 ],
 "metadata": {
  "kernelspec": {
   "display_name": "Python 3 (ipykernel)",
   "language": "python",
   "name": "python3"
  },
  "language_info": {
   "codemirror_mode": {
    "name": "ipython",
    "version": 3
   },
   "file_extension": ".py",
   "mimetype": "text/x-python",
   "name": "python",
   "nbconvert_exporter": "python",
   "pygments_lexer": "ipython3",
   "version": "3.9.13"
  }
 },
 "nbformat": 4,
 "nbformat_minor": 5
}
