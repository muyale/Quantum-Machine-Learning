{
 "cells": [
  {
   "cell_type": "code",
   "execution_count": 46,
   "id": "09c31a03",
   "metadata": {},
   "outputs": [],
   "source": [
    "# In this project we combine the sampler qnn and pytorch\n",
    "# First lets import some dependencies\n",
    "import pandas as pd\n",
    "import numpy as np\n",
    "import seaborn as sns\n",
    "import matplotlib.pyplot as plt\n",
    "from sklearn.preprocessing import MinMaxScaler\n",
    "from sklearn.model_selection import train_test_split\n",
    "import torch\n",
    "from torch import nn\n",
    "\n",
    "# Quantum Machine Learning\n",
    "import qiskit\n",
    "from qiskit import QuantumCircuit,QuantumRegister\n",
    "from qiskit.circuit import Parameter\n",
    "from qiskit.utils import algorithm_globals as alg\n",
    "from qiskit_machine_learning.neural_networks import SamplerQNN\n",
    "from qiskit.circuit.library import ZZFeatureMap,RealAmplitudes\n"
   ]
  },
  {
   "cell_type": "code",
   "execution_count": 2,
   "id": "a9cf8c2f",
   "metadata": {},
   "outputs": [],
   "source": [
    "# lets load in the data\n",
    "# The data is for a classification problem ,PCOS fertility\n",
    "df = pd.read_csv(\"C:\\\\Datasets\\\\pcos\\\\PCOS_infertility.csv\")"
   ]
  },
  {
   "cell_type": "code",
   "execution_count": 3,
   "id": "5959f8ab",
   "metadata": {},
   "outputs": [
    {
     "data": {
      "text/html": [
       "<div>\n",
       "<style scoped>\n",
       "    .dataframe tbody tr th:only-of-type {\n",
       "        vertical-align: middle;\n",
       "    }\n",
       "\n",
       "    .dataframe tbody tr th {\n",
       "        vertical-align: top;\n",
       "    }\n",
       "\n",
       "    .dataframe thead th {\n",
       "        text-align: right;\n",
       "    }\n",
       "</style>\n",
       "<table border=\"1\" class=\"dataframe\">\n",
       "  <thead>\n",
       "    <tr style=\"text-align: right;\">\n",
       "      <th></th>\n",
       "      <th>Sl. No</th>\n",
       "      <th>Patient File No.</th>\n",
       "      <th>PCOS (Y/N)</th>\n",
       "      <th>I   beta-HCG(mIU/mL)</th>\n",
       "      <th>II    beta-HCG(mIU/mL)</th>\n",
       "      <th>AMH(ng/mL)</th>\n",
       "    </tr>\n",
       "  </thead>\n",
       "  <tbody>\n",
       "    <tr>\n",
       "      <th>0</th>\n",
       "      <td>1</td>\n",
       "      <td>10001</td>\n",
       "      <td>0</td>\n",
       "      <td>1.99</td>\n",
       "      <td>1.99</td>\n",
       "      <td>2.07</td>\n",
       "    </tr>\n",
       "    <tr>\n",
       "      <th>1</th>\n",
       "      <td>2</td>\n",
       "      <td>10002</td>\n",
       "      <td>0</td>\n",
       "      <td>60.80</td>\n",
       "      <td>1.99</td>\n",
       "      <td>1.53</td>\n",
       "    </tr>\n",
       "    <tr>\n",
       "      <th>2</th>\n",
       "      <td>3</td>\n",
       "      <td>10003</td>\n",
       "      <td>1</td>\n",
       "      <td>494.08</td>\n",
       "      <td>494.08</td>\n",
       "      <td>6.63</td>\n",
       "    </tr>\n",
       "    <tr>\n",
       "      <th>3</th>\n",
       "      <td>4</td>\n",
       "      <td>10004</td>\n",
       "      <td>0</td>\n",
       "      <td>1.99</td>\n",
       "      <td>1.99</td>\n",
       "      <td>1.22</td>\n",
       "    </tr>\n",
       "    <tr>\n",
       "      <th>4</th>\n",
       "      <td>5</td>\n",
       "      <td>10005</td>\n",
       "      <td>0</td>\n",
       "      <td>801.45</td>\n",
       "      <td>801.45</td>\n",
       "      <td>2.26</td>\n",
       "    </tr>\n",
       "  </tbody>\n",
       "</table>\n",
       "</div>"
      ],
      "text/plain": [
       "   Sl. No  Patient File No.  PCOS (Y/N)    I   beta-HCG(mIU/mL)  \\\n",
       "0       1             10001           0                    1.99   \n",
       "1       2             10002           0                   60.80   \n",
       "2       3             10003           1                  494.08   \n",
       "3       4             10004           0                    1.99   \n",
       "4       5             10005           0                  801.45   \n",
       "\n",
       "   II    beta-HCG(mIU/mL) AMH(ng/mL)  \n",
       "0                    1.99       2.07  \n",
       "1                    1.99       1.53  \n",
       "2                  494.08       6.63  \n",
       "3                    1.99       1.22  \n",
       "4                  801.45       2.26  "
      ]
     },
     "execution_count": 3,
     "metadata": {},
     "output_type": "execute_result"
    }
   ],
   "source": [
    "df.head()"
   ]
  },
  {
   "cell_type": "code",
   "execution_count": 4,
   "id": "ccd6a384",
   "metadata": {},
   "outputs": [
    {
     "data": {
      "text/plain": [
       "Index(['Sl. No', 'Patient File No.', 'PCOS (Y/N)', '  I   beta-HCG(mIU/mL)',\n",
       "       'II    beta-HCG(mIU/mL)', 'AMH(ng/mL)'],\n",
       "      dtype='object')"
      ]
     },
     "execution_count": 4,
     "metadata": {},
     "output_type": "execute_result"
    }
   ],
   "source": [
    "df.columns"
   ]
  },
  {
   "cell_type": "code",
   "execution_count": 5,
   "id": "145680e6",
   "metadata": {},
   "outputs": [],
   "source": [
    "df.drop(['Patient File No.','Sl. No'],axis=1,inplace=True)"
   ]
  },
  {
   "cell_type": "code",
   "execution_count": 6,
   "id": "72a6324a",
   "metadata": {},
   "outputs": [
    {
     "data": {
      "text/html": [
       "<div>\n",
       "<style scoped>\n",
       "    .dataframe tbody tr th:only-of-type {\n",
       "        vertical-align: middle;\n",
       "    }\n",
       "\n",
       "    .dataframe tbody tr th {\n",
       "        vertical-align: top;\n",
       "    }\n",
       "\n",
       "    .dataframe thead th {\n",
       "        text-align: right;\n",
       "    }\n",
       "</style>\n",
       "<table border=\"1\" class=\"dataframe\">\n",
       "  <thead>\n",
       "    <tr style=\"text-align: right;\">\n",
       "      <th></th>\n",
       "      <th>PCOS (Y/N)</th>\n",
       "      <th>I   beta-HCG(mIU/mL)</th>\n",
       "      <th>II    beta-HCG(mIU/mL)</th>\n",
       "      <th>AMH(ng/mL)</th>\n",
       "    </tr>\n",
       "  </thead>\n",
       "  <tbody>\n",
       "    <tr>\n",
       "      <th>0</th>\n",
       "      <td>0</td>\n",
       "      <td>1.99</td>\n",
       "      <td>1.99</td>\n",
       "      <td>2.07</td>\n",
       "    </tr>\n",
       "    <tr>\n",
       "      <th>1</th>\n",
       "      <td>0</td>\n",
       "      <td>60.80</td>\n",
       "      <td>1.99</td>\n",
       "      <td>1.53</td>\n",
       "    </tr>\n",
       "    <tr>\n",
       "      <th>2</th>\n",
       "      <td>1</td>\n",
       "      <td>494.08</td>\n",
       "      <td>494.08</td>\n",
       "      <td>6.63</td>\n",
       "    </tr>\n",
       "    <tr>\n",
       "      <th>3</th>\n",
       "      <td>0</td>\n",
       "      <td>1.99</td>\n",
       "      <td>1.99</td>\n",
       "      <td>1.22</td>\n",
       "    </tr>\n",
       "    <tr>\n",
       "      <th>4</th>\n",
       "      <td>0</td>\n",
       "      <td>801.45</td>\n",
       "      <td>801.45</td>\n",
       "      <td>2.26</td>\n",
       "    </tr>\n",
       "  </tbody>\n",
       "</table>\n",
       "</div>"
      ],
      "text/plain": [
       "   PCOS (Y/N)    I   beta-HCG(mIU/mL)  II    beta-HCG(mIU/mL) AMH(ng/mL)\n",
       "0           0                    1.99                    1.99       2.07\n",
       "1           0                   60.80                    1.99       1.53\n",
       "2           1                  494.08                  494.08       6.63\n",
       "3           0                    1.99                    1.99       1.22\n",
       "4           0                  801.45                  801.45       2.26"
      ]
     },
     "execution_count": 6,
     "metadata": {},
     "output_type": "execute_result"
    }
   ],
   "source": [
    "df.head()"
   ]
  },
  {
   "cell_type": "code",
   "execution_count": 7,
   "id": "17a4374e",
   "metadata": {},
   "outputs": [],
   "source": [
    "# Our Task it to classify the patients as either  having  PCOS or Not(Binary Classification)"
   ]
  },
  {
   "cell_type": "code",
   "execution_count": 66,
   "id": "93cbee49",
   "metadata": {},
   "outputs": [],
   "source": [
    "# We need to define our features\n",
    "X = df.drop(['PCOS (Y/N)','AMH(ng/mL)'],axis=1).values\n",
    "y = df['PCOS (Y/N)'].values"
   ]
  },
  {
   "cell_type": "code",
   "execution_count": null,
   "id": "e4513a94",
   "metadata": {},
   "outputs": [],
   "source": []
  },
  {
   "cell_type": "code",
   "execution_count": 69,
   "id": "c22c94ad",
   "metadata": {},
   "outputs": [],
   "source": [
    "# I will rescale the values of X so that our model learns better\n",
    "# To note that I will use Logistic Regression for my Experiment on Classical Machine Learning\n",
    "scaler = MinMaxScaler()\n",
    "X = scaler.fit_transform(X)"
   ]
  },
  {
   "cell_type": "code",
   "execution_count": 84,
   "id": "9fd6e628",
   "metadata": {},
   "outputs": [],
   "source": [
    "# Train Test Split\n",
    "X_train,X_test,y_train,y_test = train_test_split(X,y,test_size=0.2,random_state=42)"
   ]
  },
  {
   "cell_type": "markdown",
   "id": "14cceacf",
   "metadata": {},
   "source": [
    "# CLASSICAL MACHINE LEARNING : LOGISTIC REGRESSION"
   ]
  },
  {
   "cell_type": "code",
   "execution_count": 85,
   "id": "92d629c0",
   "metadata": {},
   "outputs": [
    {
     "name": "stdout",
     "output_type": "stream",
     "text": [
      "The Mean Squared Error for our Logistic Model is 0.29357798165137616\n"
     ]
    }
   ],
   "source": [
    "from sklearn.linear_model import LogisticRegression\n",
    "from sklearn.metrics import mean_squared_error\n",
    "lr = LogisticRegression()\n",
    "lr.fit(X_train,y_train)\n",
    "lr_predictions = lr.predict(X_test)\n",
    "print(f\"The Mean Squared Error for our Logistic Model is {mean_squared_error(y_test,lr_predictions)}\") # Low Rmse ,good model\n"
   ]
  },
  {
   "cell_type": "markdown",
   "id": "581a48da",
   "metadata": {},
   "source": [
    "# QUANTUM MACHINE LEARNING "
   ]
  },
  {
   "cell_type": "code",
   "execution_count": 86,
   "id": "2e308afc",
   "metadata": {},
   "outputs": [
    {
     "data": {
      "image/png": "[encoded data removed]",
      "text/plain": [
       "<Figure size 621.739x200.667 with 1 Axes>"
      ]
     },
     "execution_count": 86,
     "metadata": {},
     "output_type": "execute_result"
    }
   ],
   "source": [
    "# Create a QuantumCircuit\n",
    "qc=  QuantumCircuit(2)\n",
    "feature_map = ZZFeatureMap(2)\n",
    "ansatz = RealAmplitudes(2,reps=1)\n",
    "qc.compose(feature_map,inplace=True)\n",
    "qc.compose(ansatz,inplace=True)\n",
    "qc.draw(\"mpl\")"
   ]
  },
  {
   "cell_type": "code",
   "execution_count": 87,
   "id": "f2ad3c6e",
   "metadata": {},
   "outputs": [],
   "source": [
    "# Sampler QNN takes in an interpret function\n",
    "def interpret(x):\n",
    "    return \"{b}\".format(x).count(\"1\")%2\n",
    "pass"
   ]
  },
  {
   "cell_type": "code",
   "execution_count": 88,
   "id": "76c545f9",
   "metadata": {},
   "outputs": [],
   "source": [
    "# Lets instantiate the SamplerQNN\n",
    "qnn = SamplerQNN(circuit=qc,input_params = feature_map.parameters,\n",
    "                weight_params = ansatz.parameters)"
   ]
  },
  {
   "cell_type": "code",
   "execution_count": 89,
   "id": "8d0f0053",
   "metadata": {},
   "outputs": [
    {
     "data": {
      "text/plain": [
       "<qiskit_machine_learning.neural_networks.sampler_qnn.SamplerQNN at 0x27190d3aca0>"
      ]
     },
     "execution_count": 89,
     "metadata": {},
     "output_type": "execute_result"
    }
   ],
   "source": [
    "qnn"
   ]
  },
  {
   "cell_type": "code",
   "execution_count": 90,
   "id": "9d9a0ff6",
   "metadata": {},
   "outputs": [
    {
     "name": "stdout",
     "output_type": "stream",
     "text": [
      "The Initial Weights for The Sample QNN are [0.00880545 0.022044   0.01131706 0.04429668]\n"
     ]
    }
   ],
   "source": [
    "# I will create Initial Weights\n",
    "alg.random_seed=(2023)\n",
    "initial_weights = 0.1 * (alg.random.random(qnn.num_weights))\n",
    "print(f\"The Initial Weights for The Sample QNN are {initial_weights}\")"
   ]
  },
  {
   "cell_type": "markdown",
   "id": "c0cc9c75",
   "metadata": {},
   "source": [
    "# MERGING CLASSICAL AND QUANTUM MACHINE LEARNING "
   ]
  },
  {
   "cell_type": "code",
   "execution_count": 91,
   "id": "31b149c4",
   "metadata": {},
   "outputs": [],
   "source": [
    "# instatiate the Torch Connector \n",
    "# This feeds a pytorch module into our quantum circuit\n",
    "# Of course we can do the Pytorch deep learning separately but TorchConnector does that for us\n",
    "from qiskit_machine_learning.connectors import TorchConnector"
   ]
  },
  {
   "cell_type": "code",
   "execution_count": 92,
   "id": "5b548987",
   "metadata": {},
   "outputs": [],
   "source": [
    "model = TorchConnector(qnn,initial_weights)"
   ]
  },
  {
   "cell_type": "code",
   "execution_count": 93,
   "id": "ea24b9c7",
   "metadata": {},
   "outputs": [
    {
     "data": {
      "text/plain": [
       "array([0, 0, 1, 0, 0, 0, 0, 0, 0, 0, 0, 0, 1, 0, 0, 0, 0, 0, 0, 1, 0, 0,\n",
       "       0, 0, 1, 0, 1, 0, 0, 1, 0, 1, 0, 0, 0, 0, 0, 0, 0, 0, 0, 0, 0, 0,\n",
       "       1, 0, 1, 0, 0, 1, 1, 0, 1, 0, 0, 0, 0, 0, 0, 0, 0, 1, 0, 0, 0, 0,\n",
       "       0, 0, 1, 1, 0, 0, 0, 0, 0, 0, 1, 0, 0, 0, 0, 0, 0, 0, 0, 0, 0, 0,\n",
       "       1, 0, 0, 0, 0, 0, 0, 1, 1, 1, 0, 0, 0, 0, 1, 0, 0, 1, 0, 1, 1, 0,\n",
       "       0, 0, 0, 1, 1, 0, 0, 1, 0, 0, 0, 0, 1, 1, 1, 0, 0, 0, 0, 0, 1, 0,\n",
       "       1, 1, 0, 0, 0, 0, 0, 0, 0, 1, 1, 0, 0, 0, 0, 0, 1, 0, 1, 1, 1, 1,\n",
       "       0, 0, 0, 0, 1, 0, 0, 0, 1, 0, 0, 0, 0, 1, 1, 1, 0, 1, 0, 1, 0, 1,\n",
       "       1, 1, 1, 0, 1, 0, 0, 0, 0, 0, 1, 0, 0, 1, 0, 1, 0, 0, 0, 1, 1, 0,\n",
       "       0, 1, 0, 0, 0, 1, 0, 1, 1, 0, 0, 1, 1, 1, 0, 1, 0, 0, 1, 1, 0, 0,\n",
       "       0, 1, 1, 0, 0, 0, 0, 1, 0, 0, 1, 0, 1, 0, 0, 0, 0, 1, 0, 0, 1, 0,\n",
       "       0, 1, 1, 1, 0, 1, 1, 0, 1, 0, 1, 0, 0, 0, 0, 0, 0, 1, 0, 0, 0, 0,\n",
       "       0, 0, 0, 1, 0, 1, 0, 0, 0, 0, 0, 1, 1, 1, 1, 0, 0, 0, 1, 0, 0, 0,\n",
       "       0, 1, 0, 0, 1, 0, 0, 1, 1, 1, 0, 0, 0, 0, 1, 0, 0, 1, 0, 0, 1, 0,\n",
       "       1, 1, 0, 1, 1, 0, 1, 0, 0, 0, 0, 0, 1, 0, 0, 1, 0, 0, 0, 0, 1, 0,\n",
       "       0, 0, 0, 0, 0, 0, 1, 1, 1, 0, 1, 1, 1, 0, 0, 0, 1, 0, 0, 0, 0, 1,\n",
       "       1, 0, 0, 0, 1, 0, 0, 0, 0, 0, 0, 0, 0, 0, 1, 0, 1, 0, 1, 0, 1, 0,\n",
       "       0, 1, 0, 0, 0, 0, 0, 0, 0, 0, 0, 0, 0, 1, 0, 0, 1, 0, 1, 0, 0, 1,\n",
       "       0, 0, 1, 0, 0, 0, 1, 1, 0, 0, 0, 0, 0, 0, 0, 0, 1, 0, 1, 1, 0, 0,\n",
       "       1, 0, 1, 0, 1, 0, 0, 1, 0, 1, 1, 1, 1, 0, 0, 0, 1, 0, 0, 1, 1, 1,\n",
       "       0, 0, 0, 1, 1, 1, 0, 1, 0, 1, 1, 1, 1, 1, 1, 1, 1, 1, 1, 0, 0, 0,\n",
       "       1, 0, 1, 0, 0, 1, 0, 1, 1, 1, 1, 0, 0, 1, 0, 1, 0, 0, 0, 0, 0, 1,\n",
       "       0, 0, 1, 0, 0, 1, 0, 0, 0, 1, 0, 1, 0, 0, 0, 0, 0, 0, 0, 0, 0, 0,\n",
       "       0, 0, 0, 1, 0, 0, 1, 0, 0, 0, 0, 0, 0, 0, 1, 0, 0, 1, 1, 0, 0, 0,\n",
       "       0, 0, 0, 0, 0, 1, 0, 0, 0, 0, 0, 0, 1], dtype=int64)"
      ]
     },
     "execution_count": 93,
     "metadata": {},
     "output_type": "execute_result"
    }
   ],
   "source": [
    "y"
   ]
  },
  {
   "cell_type": "code",
   "execution_count": 94,
   "id": "4f75df30",
   "metadata": {},
   "outputs": [],
   "source": [
    "# Since this is a Pytorch Module ,we will be forced to convert data into Tensors\n",
    "X_train = torch.from_numpy(X_train).type(torch.FloatTensor)\n",
    "X_test = torch.from_numpy(X_test).type(torch.FloatTensor)\n",
    "y_train = torch.from_numpy(y_train).type(torch.LongTensor)\n",
    "y_test = torch.from_numpy(y_test).type(torch.LongTensor)"
   ]
  },
  {
   "cell_type": "code",
   "execution_count": 95,
   "id": "9bfd89a6",
   "metadata": {},
   "outputs": [
    {
     "data": {
      "text/plain": [
       "tensor([[8.1414e-01, 1.8492e-01, 9.0137e-04, 4.0284e-05],\n",
       "        [8.1414e-01, 1.8492e-01, 9.0137e-04, 4.0284e-05],\n",
       "        [8.1414e-01, 1.8492e-01, 9.0137e-04, 4.0284e-05]],\n",
       "       grad_fn=<_TorchNNFunctionBackward>)"
      ]
     },
     "execution_count": 95,
     "metadata": {},
     "output_type": "execute_result"
    }
   ],
   "source": [
    "model(X_train[:3])"
   ]
  },
  {
   "cell_type": "markdown",
   "id": "597d7dcd",
   "metadata": {},
   "source": [
    "# TRAINING AND TESTING LOOP FOR OUR HYBRID QNN"
   ]
  },
  {
   "cell_type": "code",
   "execution_count": 96,
   "id": "fcd8332c",
   "metadata": {},
   "outputs": [
    {
     "name": "stdout",
     "output_type": "stream",
     "text": [
      "Epoch0|Training Loss1.1039071083068848|test loss 1.0689672231674194\n",
      "Epoch2|Training Loss1.1039063930511475|test loss 1.0689667463302612\n",
      "Epoch4|Training Loss1.1039056777954102|test loss 1.068966031074524\n",
      "Epoch6|Training Loss1.1039049625396729|test loss 1.0689654350280762\n",
      "Epoch8|Training Loss1.1039042472839355|test loss 1.0689647197723389\n"
     ]
    }
   ],
   "source": [
    "optimizer = torch.optim.SGD(model.parameters(),lr=0.001)\n",
    "criterion = nn.CrossEntropyLoss()\n",
    "epochs  = 10\n",
    "for epoch in range (epochs):\n",
    "    y_pred = model(X_train)\n",
    "    loss = criterion(y_pred,y_train)\n",
    "    optimizer.zero_grad()\n",
    "    loss.backward()\n",
    "    optimizer.step()\n",
    "    with torch.inference_mode():\n",
    "        y_pred = model(X_test)\n",
    "        test_loss = criterion(y_pred,y_test)\n",
    "        if epoch % 2 == 0 :\n",
    "            print(f\"Epoch{epoch}|Training Loss{loss}|test loss {test_loss}\")"
   ]
  },
  {
   "cell_type": "markdown",
   "id": "43f842ce",
   "metadata": {},
   "source": [
    "# THE END OF THE NOTEBOOK"
   ]
  },
  {
   "cell_type": "code",
   "execution_count": null,
   "id": "17815e58",
   "metadata": {},
   "outputs": [],
   "source": []
  }
 ],
 "metadata": {
  "kernelspec": {
   "display_name": "Python 3 (ipykernel)",
   "language": "python",
   "name": "python3"
  },
  "language_info": {
   "codemirror_mode": {
    "name": "ipython",
    "version": 3
   },
   "file_extension": ".py",
   "mimetype": "text/x-python",
   "name": "python",
   "nbconvert_exporter": "python",
   "pygments_lexer": "ipython3",
   "version": "3.9.13"
  }
 },
 "nbformat": 4,
 "nbformat_minor": 5
}
