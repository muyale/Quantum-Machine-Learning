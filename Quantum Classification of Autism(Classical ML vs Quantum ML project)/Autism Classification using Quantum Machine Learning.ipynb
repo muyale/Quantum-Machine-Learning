{
 "cells": [
  {
   "cell_type": "markdown",
   "id": "08dada07",
   "metadata": {},
   "source": [
    "# ABOUT PROJECT : AUTISM CLASSIFICATION\n",
    "THE FIELD OF QUANTUM COMPUTING IS QUITE FASCINATING ,WITH THE INVENTION OF ALGORITHMS THAT DEPEND ON SUPERPOSITION AND THE IDEA OF \n",
    "QUBITS.WE CAN USE THESE ALGORITHMS TO FURTHER O MEDICINE RESEARCH .QUANTUM MACHINE LEARNING IS GOOD IN PATTERN RECOGNITION\n",
    "AND SO FOR THIS PROJECT I WILL INCORPORATE  TO SOLVE THE PROBLEM OF DIAGONISING AUTISM.\n",
    "THE IDEA IS TO CREATE A PARAMETIZED CIRCUIT AND ENCODE CLASSICAL DATA IN THE QUANTUM STATE SPACE.\n",
    "\n"
   ]
  },
  {
   "cell_type": "code",
   "execution_count": 1,
   "id": "25078787",
   "metadata": {},
   "outputs": [],
   "source": [
    "# import some dependencies\n",
    "import pandas as pd\n",
    "import numpy as np\n",
    "import seaborn as sns\n",
    "import matplotlib.pyplot as plt\n",
    "from sklearn.preprocessing import LabelEncoder,StandardScaler\n",
    "from sklearn.model_selection import train_test_split\n",
    "from sklearn.ensemble import RandomForestClassifier\n",
    "from sklearn.linear_model import LogisticRegression\n",
    "import torch\n",
    "from torch import nn\n",
    "import torch.nn.functional as F\n",
    "# Quantum Machine Learning\n",
    "import qiskit\n",
    "import qiskit_machine_learning\n",
    "from qiskit.circuit.library import RealAmplitudes,ZZFeatureMap\n",
    "from qiskit.algorithms.optimizers import SPSA\n",
    "from qiskit import QuantumCircuit\n",
    "from qiskit.circuit import Parameter\n",
    "from qiskit_machine_learning.algorithms.classifiers import VQC\n"
   ]
  },
  {
   "cell_type": "code",
   "execution_count": 2,
   "id": "ad79d594",
   "metadata": {},
   "outputs": [
    {
     "data": {
      "text/html": [
       "<div>\n",
       "<style scoped>\n",
       "    .dataframe tbody tr th:only-of-type {\n",
       "        vertical-align: middle;\n",
       "    }\n",
       "\n",
       "    .dataframe tbody tr th {\n",
       "        vertical-align: top;\n",
       "    }\n",
       "\n",
       "    .dataframe thead th {\n",
       "        text-align: right;\n",
       "    }\n",
       "</style>\n",
       "<table border=\"1\" class=\"dataframe\">\n",
       "  <thead>\n",
       "    <tr style=\"text-align: right;\">\n",
       "      <th></th>\n",
       "      <th>A1_Score</th>\n",
       "      <th>A2_Score</th>\n",
       "      <th>A3_Score</th>\n",
       "      <th>A4_Score</th>\n",
       "      <th>A5_Score</th>\n",
       "      <th>A6_Score</th>\n",
       "      <th>A7_Score</th>\n",
       "      <th>A8_Score</th>\n",
       "      <th>A9_Score</th>\n",
       "      <th>A10_Score</th>\n",
       "      <th>...</th>\n",
       "      <th>gender</th>\n",
       "      <th>ethnicity</th>\n",
       "      <th>jundice</th>\n",
       "      <th>austim</th>\n",
       "      <th>contry_of_res</th>\n",
       "      <th>used_app_before</th>\n",
       "      <th>result</th>\n",
       "      <th>age_desc</th>\n",
       "      <th>relation</th>\n",
       "      <th>Class/ASD</th>\n",
       "    </tr>\n",
       "  </thead>\n",
       "  <tbody>\n",
       "    <tr>\n",
       "      <th>0</th>\n",
       "      <td>1</td>\n",
       "      <td>1</td>\n",
       "      <td>1</td>\n",
       "      <td>1</td>\n",
       "      <td>0</td>\n",
       "      <td>0</td>\n",
       "      <td>1</td>\n",
       "      <td>1</td>\n",
       "      <td>0</td>\n",
       "      <td>0</td>\n",
       "      <td>...</td>\n",
       "      <td>f</td>\n",
       "      <td>White-European</td>\n",
       "      <td>no</td>\n",
       "      <td>no</td>\n",
       "      <td>United States</td>\n",
       "      <td>no</td>\n",
       "      <td>6.0</td>\n",
       "      <td>18 and more</td>\n",
       "      <td>Self</td>\n",
       "      <td>NO</td>\n",
       "    </tr>\n",
       "    <tr>\n",
       "      <th>1</th>\n",
       "      <td>1</td>\n",
       "      <td>1</td>\n",
       "      <td>0</td>\n",
       "      <td>1</td>\n",
       "      <td>0</td>\n",
       "      <td>0</td>\n",
       "      <td>0</td>\n",
       "      <td>1</td>\n",
       "      <td>0</td>\n",
       "      <td>1</td>\n",
       "      <td>...</td>\n",
       "      <td>m</td>\n",
       "      <td>Latino</td>\n",
       "      <td>no</td>\n",
       "      <td>yes</td>\n",
       "      <td>Brazil</td>\n",
       "      <td>no</td>\n",
       "      <td>5.0</td>\n",
       "      <td>18 and more</td>\n",
       "      <td>Self</td>\n",
       "      <td>NO</td>\n",
       "    </tr>\n",
       "    <tr>\n",
       "      <th>2</th>\n",
       "      <td>1</td>\n",
       "      <td>1</td>\n",
       "      <td>0</td>\n",
       "      <td>1</td>\n",
       "      <td>1</td>\n",
       "      <td>0</td>\n",
       "      <td>1</td>\n",
       "      <td>1</td>\n",
       "      <td>1</td>\n",
       "      <td>1</td>\n",
       "      <td>...</td>\n",
       "      <td>m</td>\n",
       "      <td>Latino</td>\n",
       "      <td>yes</td>\n",
       "      <td>yes</td>\n",
       "      <td>Spain</td>\n",
       "      <td>no</td>\n",
       "      <td>8.0</td>\n",
       "      <td>18 and more</td>\n",
       "      <td>Parent</td>\n",
       "      <td>YES</td>\n",
       "    </tr>\n",
       "    <tr>\n",
       "      <th>3</th>\n",
       "      <td>1</td>\n",
       "      <td>1</td>\n",
       "      <td>0</td>\n",
       "      <td>1</td>\n",
       "      <td>0</td>\n",
       "      <td>0</td>\n",
       "      <td>1</td>\n",
       "      <td>1</td>\n",
       "      <td>0</td>\n",
       "      <td>1</td>\n",
       "      <td>...</td>\n",
       "      <td>f</td>\n",
       "      <td>White-European</td>\n",
       "      <td>no</td>\n",
       "      <td>yes</td>\n",
       "      <td>United States</td>\n",
       "      <td>no</td>\n",
       "      <td>6.0</td>\n",
       "      <td>18 and more</td>\n",
       "      <td>Self</td>\n",
       "      <td>NO</td>\n",
       "    </tr>\n",
       "    <tr>\n",
       "      <th>4</th>\n",
       "      <td>1</td>\n",
       "      <td>0</td>\n",
       "      <td>0</td>\n",
       "      <td>0</td>\n",
       "      <td>0</td>\n",
       "      <td>0</td>\n",
       "      <td>0</td>\n",
       "      <td>1</td>\n",
       "      <td>0</td>\n",
       "      <td>0</td>\n",
       "      <td>...</td>\n",
       "      <td>f</td>\n",
       "      <td>?</td>\n",
       "      <td>no</td>\n",
       "      <td>no</td>\n",
       "      <td>Egypt</td>\n",
       "      <td>no</td>\n",
       "      <td>2.0</td>\n",
       "      <td>18 and more</td>\n",
       "      <td>?</td>\n",
       "      <td>NO</td>\n",
       "    </tr>\n",
       "  </tbody>\n",
       "</table>\n",
       "<p>5 rows × 21 columns</p>\n",
       "</div>"
      ],
      "text/plain": [
       "   A1_Score  A2_Score  A3_Score  A4_Score  A5_Score  A6_Score  A7_Score  \\\n",
       "0         1         1         1         1         0         0         1   \n",
       "1         1         1         0         1         0         0         0   \n",
       "2         1         1         0         1         1         0         1   \n",
       "3         1         1         0         1         0         0         1   \n",
       "4         1         0         0         0         0         0         0   \n",
       "\n",
       "   A8_Score  A9_Score  A10_Score  ...  gender       ethnicity jundice austim  \\\n",
       "0         1         0          0  ...       f  White-European      no     no   \n",
       "1         1         0          1  ...       m          Latino      no    yes   \n",
       "2         1         1          1  ...       m          Latino     yes    yes   \n",
       "3         1         0          1  ...       f  White-European      no    yes   \n",
       "4         1         0          0  ...       f               ?      no     no   \n",
       "\n",
       "   contry_of_res used_app_before result     age_desc relation Class/ASD  \n",
       "0  United States              no    6.0  18 and more     Self        NO  \n",
       "1         Brazil              no    5.0  18 and more     Self        NO  \n",
       "2          Spain              no    8.0  18 and more   Parent       YES  \n",
       "3  United States              no    6.0  18 and more     Self        NO  \n",
       "4          Egypt              no    2.0  18 and more        ?        NO  \n",
       "\n",
       "[5 rows x 21 columns]"
      ]
     },
     "execution_count": 2,
     "metadata": {},
     "output_type": "execute_result"
    }
   ],
   "source": [
    "# read in the data \n",
    "df = pd.read_csv(\"C:\\\\Datasets\\\\Autism\\\\autism_screening.csv\")\n",
    "df.head()"
   ]
  },
  {
   "cell_type": "code",
   "execution_count": 3,
   "id": "565d96e2",
   "metadata": {},
   "outputs": [
    {
     "data": {
      "text/plain": [
       "(704, 21)"
      ]
     },
     "execution_count": 3,
     "metadata": {},
     "output_type": "execute_result"
    }
   ],
   "source": [
    "df.shape"
   ]
  },
  {
   "cell_type": "code",
   "execution_count": 4,
   "id": "9ef4835c",
   "metadata": {},
   "outputs": [
    {
     "data": {
      "text/plain": [
       "A1_Score             int64\n",
       "A2_Score             int64\n",
       "A3_Score             int64\n",
       "A4_Score             int64\n",
       "A5_Score             int64\n",
       "A6_Score             int64\n",
       "A7_Score             int64\n",
       "A8_Score             int64\n",
       "A9_Score             int64\n",
       "A10_Score            int64\n",
       "age                float64\n",
       "gender              object\n",
       "ethnicity           object\n",
       "jundice             object\n",
       "austim              object\n",
       "contry_of_res       object\n",
       "used_app_before     object\n",
       "result             float64\n",
       "age_desc            object\n",
       "relation            object\n",
       "Class/ASD           object\n",
       "dtype: object"
      ]
     },
     "execution_count": 4,
     "metadata": {},
     "output_type": "execute_result"
    }
   ],
   "source": [
    "df.dtypes"
   ]
  },
  {
   "cell_type": "code",
   "execution_count": 5,
   "id": "2289e491",
   "metadata": {},
   "outputs": [
    {
     "data": {
      "text/plain": [
       "A1_Score           0\n",
       "A2_Score           0\n",
       "A3_Score           0\n",
       "A4_Score           0\n",
       "A5_Score           0\n",
       "A6_Score           0\n",
       "A7_Score           0\n",
       "A8_Score           0\n",
       "A9_Score           0\n",
       "A10_Score          0\n",
       "age                2\n",
       "gender             0\n",
       "ethnicity          0\n",
       "jundice            0\n",
       "austim             0\n",
       "contry_of_res      0\n",
       "used_app_before    0\n",
       "result             0\n",
       "age_desc           0\n",
       "relation           0\n",
       "Class/ASD          0\n",
       "dtype: int64"
      ]
     },
     "execution_count": 5,
     "metadata": {},
     "output_type": "execute_result"
    }
   ],
   "source": [
    "df.isnull().sum() # return all the columns with null values"
   ]
  },
  {
   "cell_type": "code",
   "execution_count": 6,
   "id": "f2997b1c",
   "metadata": {},
   "outputs": [
    {
     "data": {
      "text/plain": [
       "White-European     233\n",
       "Asian              123\n",
       "?                   95\n",
       "Middle Eastern      92\n",
       "Black               43\n",
       "Name: ethnicity, dtype: int64"
      ]
     },
     "execution_count": 6,
     "metadata": {},
     "output_type": "execute_result"
    }
   ],
   "source": [
    "df['ethnicity'].value_counts().head() # I did this to first understand how many rows have a question mark "
   ]
  },
  {
   "cell_type": "code",
   "execution_count": 7,
   "id": "eef1d167",
   "metadata": {},
   "outputs": [],
   "source": [
    "df['ethnicity'] = df['ethnicity'].replace({\"?\":\"NotListed\"})"
   ]
  },
  {
   "cell_type": "code",
   "execution_count": 8,
   "id": "e30994c4",
   "metadata": {},
   "outputs": [
    {
     "data": {
      "text/plain": [
       "White-European     233\n",
       "Asian              123\n",
       "NotListed           95\n",
       "Middle Eastern      92\n",
       "Black               43\n",
       "Name: ethnicity, dtype: int64"
      ]
     },
     "execution_count": 8,
     "metadata": {},
     "output_type": "execute_result"
    }
   ],
   "source": [
    "df['ethnicity'].value_counts().head() # I replaced  the question mark "
   ]
  },
  {
   "cell_type": "code",
   "execution_count": 9,
   "id": "179088cb",
   "metadata": {},
   "outputs": [],
   "source": [
    "df['relation'] = df['relation'].replace({\"?\":\"NotListed\"}) # same procedure to eliminate the question mark"
   ]
  },
  {
   "cell_type": "code",
   "execution_count": 10,
   "id": "d28fd839",
   "metadata": {},
   "outputs": [],
   "source": [
    "# age had two null values,I replaced that using the mean value\n",
    "df['age'] = df['age'].fillna(df['age'].mean())"
   ]
  },
  {
   "cell_type": "code",
   "execution_count": 11,
   "id": "dcbeb89f",
   "metadata": {},
   "outputs": [],
   "source": [
    "# Create a function that returns the frequent items in our columns\n",
    "def frequent_items(column,df=df):\n",
    "    \"\"\"This function return the top 5 most appearing values in a column ,It also indicates the highest\n",
    "    appearing values\"\"\"\n",
    "    return print(f\"The most appearing in {column} in order of appearance /n {df[column].value_counts().head()}\")"
   ]
  },
  {
   "cell_type": "code",
   "execution_count": 12,
   "id": "1ce47b97",
   "metadata": {},
   "outputs": [
    {
     "data": {
      "text/plain": [
       "Index(['A1_Score', 'A2_Score', 'A3_Score', 'A4_Score', 'A5_Score', 'A6_Score',\n",
       "       'A7_Score', 'A8_Score', 'A9_Score', 'A10_Score', 'age', 'gender',\n",
       "       'ethnicity', 'jundice', 'austim', 'contry_of_res', 'used_app_before',\n",
       "       'result', 'age_desc', 'relation', 'Class/ASD'],\n",
       "      dtype='object')"
      ]
     },
     "execution_count": 12,
     "metadata": {},
     "output_type": "execute_result"
    }
   ],
   "source": [
    "df.columns"
   ]
  },
  {
   "cell_type": "code",
   "execution_count": 13,
   "id": "87722f40",
   "metadata": {},
   "outputs": [
    {
     "name": "stdout",
     "output_type": "stream",
     "text": [
      "The most appearing in age in order of appearance /n 21.0    49\n",
      "20.0    46\n",
      "23.0    37\n",
      "22.0    37\n",
      "19.0    35\n",
      "Name: age, dtype: int64\n",
      "The most appearing in gender in order of appearance /n m    367\n",
      "f    337\n",
      "Name: gender, dtype: int64\n",
      "The most appearing in ethnicity in order of appearance /n White-European     233\n",
      "Asian              123\n",
      "NotListed           95\n",
      "Middle Eastern      92\n",
      "Black               43\n",
      "Name: ethnicity, dtype: int64\n",
      "The most appearing in jundice in order of appearance /n no     635\n",
      "yes     69\n",
      "Name: jundice, dtype: int64\n",
      "The most appearing in austim in order of appearance /n no     613\n",
      "yes     91\n",
      "Name: austim, dtype: int64\n",
      "The most appearing in contry_of_res in order of appearance /n United States           113\n",
      "United Arab Emirates     82\n",
      "New Zealand              81\n",
      "India                    81\n",
      "United Kingdom           77\n",
      "Name: contry_of_res, dtype: int64\n",
      "The most appearing in result in order of appearance /n 4.0    131\n",
      "3.0    110\n",
      "5.0     83\n",
      "2.0     74\n",
      "6.0     70\n",
      "Name: result, dtype: int64\n",
      "The most appearing in age_desc in order of appearance /n 18 and more    704\n",
      "Name: age_desc, dtype: int64\n",
      "The most appearing in relation in order of appearance /n Self         522\n",
      "NotListed     95\n",
      "Parent        50\n",
      "Relative      28\n",
      "Others         5\n",
      "Name: relation, dtype: int64\n",
      "The most appearing in Class/ASD in order of appearance /n NO     515\n",
      "YES    189\n",
      "Name: Class/ASD, dtype: int64\n"
     ]
    }
   ],
   "source": [
    "for column in df.columns :\n",
    "    if column in ['age', 'gender','ethnicity', 'jundice', 'austim', 'contry_of_res','result', 'age_desc', 'relation', 'Class/ASD']:\n",
    "        frequent_items(column=column)"
   ]
  },
  {
   "cell_type": "markdown",
   "id": "269c6b4a",
   "metadata": {},
   "source": [
    "# DATA EXPLORATION AND VISUALIZATION"
   ]
  },
  {
   "cell_type": "code",
   "execution_count": 14,
   "id": "d3a9b28a",
   "metadata": {},
   "outputs": [],
   "source": [
    "# To visualize some of the categorical data ,I will use the countplot from the seaborn library and so I will create a function \n",
    "#that returns the visualization.Also a histogram plot will be handy for univariate  continous data\n",
    "\n",
    "def draw_countplot(column,hue=None,df=df):\n",
    "    fig=plt.figure(figsize=(20,8))\n",
    "    sns.countplot(x=column,data=df,hue=hue)\n",
    "    plt.xlabel(column)\n",
    "    plt.ylabel(\"Total Number\")\n",
    "    plt.title(f\"The Distribution of {column}\")\n",
    "    plt.show()\n",
    "def draw_histogram(column,hue=None,df=df):\n",
    "    fig=plt.figure(figsize=(20,8))\n",
    "    sns.histplot(x=column,data=df,hue=hue)\n",
    "    plt.xlabel(column)\n",
    "    plt.ylabel(\"Total Number\")\n",
    "    plt.title(f\"The Distribution of {column}\")\n",
    "    plt.show() "
   ]
  },
  {
   "cell_type": "code",
   "execution_count": 15,
   "id": "da94d6ac",
   "metadata": {},
   "outputs": [
    {
     "data": {
      "image/png": "[encoded data removed]",
      "text/plain": [
       "<Figure size 2000x800 with 1 Axes>"
      ]
     },
     "metadata": {},
     "output_type": "display_data"
    }
   ],
   "source": [
    "# 1. Which gender dominates the Autism disorder\n",
    "draw_countplot(\"gender\",hue='austim') # A lot of females have Autistic syndrome"
   ]
  },
  {
   "cell_type": "code",
   "execution_count": 16,
   "id": "21b108ca",
   "metadata": {},
   "outputs": [
    {
     "data": {
      "image/png": "[encoded data removed]",
      "text/plain": [
       "<Figure size 2000x800 with 1 Axes>"
      ]
     },
     "metadata": {},
     "output_type": "display_data"
    }
   ],
   "source": [
    "# 2 . Which ethnicity has more Autism cases ?\n",
    "draw_countplot(\"ethnicity\",hue=\"austim\") # White Europeans dominate with Autism"
   ]
  },
  {
   "cell_type": "code",
   "execution_count": 17,
   "id": "57be2df9",
   "metadata": {},
   "outputs": [
    {
     "data": {
      "image/png": "[encoded data removed]",
      "text/plain": [
       "<Figure size 2000x800 with 1 Axes>"
      ]
     },
     "metadata": {},
     "output_type": "display_data"
    }
   ],
   "source": [
    "# 3 Which age group has the most cases of Autism?\n",
    "draw_histogram(\"age\",hue='austim') # A majority of the confirmed cases are aged 30 "
   ]
  },
  {
   "cell_type": "code",
   "execution_count": 18,
   "id": "b0492256",
   "metadata": {},
   "outputs": [
    {
     "data": {
      "image/png": "[encoded data removed]",
      "text/plain": [
       "<Figure size 2000x800 with 1 Axes>"
      ]
     },
     "metadata": {},
     "output_type": "display_data"
    }
   ],
   "source": [
    "# 4.Which age dominates the survey?\n",
    "draw_histogram(\"age\")"
   ]
  },
  {
   "cell_type": "code",
   "execution_count": 19,
   "id": "85973e04",
   "metadata": {},
   "outputs": [
    {
     "data": {
      "image/png": "[encoded data removed]",
      "text/plain": [
       "<Figure size 2000x800 with 1 Axes>"
      ]
     },
     "metadata": {},
     "output_type": "display_data"
    }
   ],
   "source": [
    "plt.figure(figsize=(20,8))\n",
    "sns.boxplot(x=\"age\",data=df)\n",
    "plt.xlabel(\"Age \")\n",
    "plt.title(\"A BOXPLOT SHOWING THE DISTRIBUTION OF AGE\")\n",
    "plt.show()"
   ]
  },
  {
   "cell_type": "code",
   "execution_count": 20,
   "id": "fb7a8350",
   "metadata": {},
   "outputs": [],
   "source": [
    "# TO ANALYZE AND VISUALIZE Categorical data I will be forced to convert them into continous data ,using label encoder\n",
    "lbl_encoder = {}\n",
    "categorical_columns = ['age', 'gender','ethnicity', 'jundice', 'austim', 'contry_of_res'\n",
    "                       ,'result', 'age_desc', 'relation', 'Class/ASD','used_app_before']\n",
    "for columns in categorical_columns:\n",
    "    lbl_encoder = LabelEncoder()\n",
    "    df[columns] = lbl_encoder.fit_transform(df[columns])"
   ]
  },
  {
   "cell_type": "code",
   "execution_count": 21,
   "id": "4337cba7",
   "metadata": {},
   "outputs": [],
   "source": [
    "df.drop(['age_desc'],axis=1,inplace=True)"
   ]
  },
  {
   "cell_type": "code",
   "execution_count": 22,
   "id": "d1a6bea4",
   "metadata": {},
   "outputs": [
    {
     "data": {
      "text/html": [
       "<div>\n",
       "<style scoped>\n",
       "    .dataframe tbody tr th:only-of-type {\n",
       "        vertical-align: middle;\n",
       "    }\n",
       "\n",
       "    .dataframe tbody tr th {\n",
       "        vertical-align: top;\n",
       "    }\n",
       "\n",
       "    .dataframe thead th {\n",
       "        text-align: right;\n",
       "    }\n",
       "</style>\n",
       "<table border=\"1\" class=\"dataframe\">\n",
       "  <thead>\n",
       "    <tr style=\"text-align: right;\">\n",
       "      <th></th>\n",
       "      <th>A1_Score</th>\n",
       "      <th>A2_Score</th>\n",
       "      <th>A3_Score</th>\n",
       "      <th>A4_Score</th>\n",
       "      <th>A5_Score</th>\n",
       "      <th>A6_Score</th>\n",
       "      <th>A7_Score</th>\n",
       "      <th>A8_Score</th>\n",
       "      <th>A9_Score</th>\n",
       "      <th>A10_Score</th>\n",
       "      <th>age</th>\n",
       "      <th>gender</th>\n",
       "      <th>ethnicity</th>\n",
       "      <th>jundice</th>\n",
       "      <th>austim</th>\n",
       "      <th>contry_of_res</th>\n",
       "      <th>used_app_before</th>\n",
       "      <th>result</th>\n",
       "      <th>relation</th>\n",
       "      <th>Class/ASD</th>\n",
       "    </tr>\n",
       "  </thead>\n",
       "  <tbody>\n",
       "    <tr>\n",
       "      <th>0</th>\n",
       "      <td>1</td>\n",
       "      <td>1</td>\n",
       "      <td>1</td>\n",
       "      <td>1</td>\n",
       "      <td>0</td>\n",
       "      <td>0</td>\n",
       "      <td>1</td>\n",
       "      <td>1</td>\n",
       "      <td>0</td>\n",
       "      <td>0</td>\n",
       "      <td>9</td>\n",
       "      <td>0</td>\n",
       "      <td>10</td>\n",
       "      <td>0</td>\n",
       "      <td>0</td>\n",
       "      <td>64</td>\n",
       "      <td>0</td>\n",
       "      <td>6</td>\n",
       "      <td>5</td>\n",
       "      <td>0</td>\n",
       "    </tr>\n",
       "    <tr>\n",
       "      <th>1</th>\n",
       "      <td>1</td>\n",
       "      <td>1</td>\n",
       "      <td>0</td>\n",
       "      <td>1</td>\n",
       "      <td>0</td>\n",
       "      <td>0</td>\n",
       "      <td>0</td>\n",
       "      <td>1</td>\n",
       "      <td>0</td>\n",
       "      <td>1</td>\n",
       "      <td>7</td>\n",
       "      <td>1</td>\n",
       "      <td>3</td>\n",
       "      <td>0</td>\n",
       "      <td>1</td>\n",
       "      <td>13</td>\n",
       "      <td>0</td>\n",
       "      <td>5</td>\n",
       "      <td>5</td>\n",
       "      <td>0</td>\n",
       "    </tr>\n",
       "    <tr>\n",
       "      <th>2</th>\n",
       "      <td>1</td>\n",
       "      <td>1</td>\n",
       "      <td>0</td>\n",
       "      <td>1</td>\n",
       "      <td>1</td>\n",
       "      <td>0</td>\n",
       "      <td>1</td>\n",
       "      <td>1</td>\n",
       "      <td>1</td>\n",
       "      <td>1</td>\n",
       "      <td>10</td>\n",
       "      <td>1</td>\n",
       "      <td>3</td>\n",
       "      <td>1</td>\n",
       "      <td>1</td>\n",
       "      <td>56</td>\n",
       "      <td>0</td>\n",
       "      <td>8</td>\n",
       "      <td>3</td>\n",
       "      <td>1</td>\n",
       "    </tr>\n",
       "    <tr>\n",
       "      <th>3</th>\n",
       "      <td>1</td>\n",
       "      <td>1</td>\n",
       "      <td>0</td>\n",
       "      <td>1</td>\n",
       "      <td>0</td>\n",
       "      <td>0</td>\n",
       "      <td>1</td>\n",
       "      <td>1</td>\n",
       "      <td>0</td>\n",
       "      <td>1</td>\n",
       "      <td>19</td>\n",
       "      <td>0</td>\n",
       "      <td>10</td>\n",
       "      <td>0</td>\n",
       "      <td>1</td>\n",
       "      <td>64</td>\n",
       "      <td>0</td>\n",
       "      <td>6</td>\n",
       "      <td>5</td>\n",
       "      <td>0</td>\n",
       "    </tr>\n",
       "    <tr>\n",
       "      <th>4</th>\n",
       "      <td>1</td>\n",
       "      <td>0</td>\n",
       "      <td>0</td>\n",
       "      <td>0</td>\n",
       "      <td>0</td>\n",
       "      <td>0</td>\n",
       "      <td>0</td>\n",
       "      <td>1</td>\n",
       "      <td>0</td>\n",
       "      <td>0</td>\n",
       "      <td>24</td>\n",
       "      <td>0</td>\n",
       "      <td>5</td>\n",
       "      <td>0</td>\n",
       "      <td>0</td>\n",
       "      <td>22</td>\n",
       "      <td>0</td>\n",
       "      <td>2</td>\n",
       "      <td>1</td>\n",
       "      <td>0</td>\n",
       "    </tr>\n",
       "  </tbody>\n",
       "</table>\n",
       "</div>"
      ],
      "text/plain": [
       "   A1_Score  A2_Score  A3_Score  A4_Score  A5_Score  A6_Score  A7_Score  \\\n",
       "0         1         1         1         1         0         0         1   \n",
       "1         1         1         0         1         0         0         0   \n",
       "2         1         1         0         1         1         0         1   \n",
       "3         1         1         0         1         0         0         1   \n",
       "4         1         0         0         0         0         0         0   \n",
       "\n",
       "   A8_Score  A9_Score  A10_Score  age  gender  ethnicity  jundice  austim  \\\n",
       "0         1         0          0    9       0         10        0       0   \n",
       "1         1         0          1    7       1          3        0       1   \n",
       "2         1         1          1   10       1          3        1       1   \n",
       "3         1         0          1   19       0         10        0       1   \n",
       "4         1         0          0   24       0          5        0       0   \n",
       "\n",
       "   contry_of_res  used_app_before  result  relation  Class/ASD  \n",
       "0             64                0       6         5          0  \n",
       "1             13                0       5         5          0  \n",
       "2             56                0       8         3          1  \n",
       "3             64                0       6         5          0  \n",
       "4             22                0       2         1          0  "
      ]
     },
     "execution_count": 22,
     "metadata": {},
     "output_type": "execute_result"
    }
   ],
   "source": [
    "df.head() # Now we have no categorical columns"
   ]
  },
  {
   "cell_type": "code",
   "execution_count": 23,
   "id": "90490ed5",
   "metadata": {},
   "outputs": [
    {
     "data": {
      "text/html": [
       "<div>\n",
       "<style scoped>\n",
       "    .dataframe tbody tr th:only-of-type {\n",
       "        vertical-align: middle;\n",
       "    }\n",
       "\n",
       "    .dataframe tbody tr th {\n",
       "        vertical-align: top;\n",
       "    }\n",
       "\n",
       "    .dataframe thead th {\n",
       "        text-align: right;\n",
       "    }\n",
       "</style>\n",
       "<table border=\"1\" class=\"dataframe\">\n",
       "  <thead>\n",
       "    <tr style=\"text-align: right;\">\n",
       "      <th></th>\n",
       "      <th>A1_Score</th>\n",
       "      <th>A2_Score</th>\n",
       "      <th>A3_Score</th>\n",
       "      <th>A4_Score</th>\n",
       "      <th>A5_Score</th>\n",
       "      <th>A6_Score</th>\n",
       "      <th>A7_Score</th>\n",
       "      <th>A8_Score</th>\n",
       "      <th>A9_Score</th>\n",
       "      <th>A10_Score</th>\n",
       "      <th>age</th>\n",
       "      <th>gender</th>\n",
       "      <th>ethnicity</th>\n",
       "      <th>jundice</th>\n",
       "      <th>austim</th>\n",
       "      <th>contry_of_res</th>\n",
       "      <th>used_app_before</th>\n",
       "      <th>result</th>\n",
       "      <th>relation</th>\n",
       "      <th>Class/ASD</th>\n",
       "    </tr>\n",
       "  </thead>\n",
       "  <tbody>\n",
       "    <tr>\n",
       "      <th>A1_Score</th>\n",
       "      <td>1.000000</td>\n",
       "      <td>0.011539</td>\n",
       "      <td>0.074096</td>\n",
       "      <td>0.127814</td>\n",
       "      <td>0.169369</td>\n",
       "      <td>0.110199</td>\n",
       "      <td>0.217538</td>\n",
       "      <td>0.147640</td>\n",
       "      <td>0.145452</td>\n",
       "      <td>0.118413</td>\n",
       "      <td>0.010172</td>\n",
       "      <td>-0.075011</td>\n",
       "      <td>0.107554</td>\n",
       "      <td>-0.019077</td>\n",
       "      <td>0.097630</td>\n",
       "      <td>0.024271</td>\n",
       "      <td>-0.040620</td>\n",
       "      <td>0.397454</td>\n",
       "      <td>0.104736</td>\n",
       "      <td>0.297628</td>\n",
       "    </tr>\n",
       "    <tr>\n",
       "      <th>A2_Score</th>\n",
       "      <td>0.011539</td>\n",
       "      <td>1.000000</td>\n",
       "      <td>0.223921</td>\n",
       "      <td>0.158998</td>\n",
       "      <td>0.153821</td>\n",
       "      <td>0.185864</td>\n",
       "      <td>-0.041768</td>\n",
       "      <td>0.035408</td>\n",
       "      <td>0.205421</td>\n",
       "      <td>0.068883</td>\n",
       "      <td>0.078517</td>\n",
       "      <td>-0.047393</td>\n",
       "      <td>0.172701</td>\n",
       "      <td>0.112615</td>\n",
       "      <td>0.074555</td>\n",
       "      <td>0.142462</td>\n",
       "      <td>-0.009645</td>\n",
       "      <td>0.392540</td>\n",
       "      <td>0.057278</td>\n",
       "      <td>0.311382</td>\n",
       "    </tr>\n",
       "    <tr>\n",
       "      <th>A3_Score</th>\n",
       "      <td>0.074096</td>\n",
       "      <td>0.223921</td>\n",
       "      <td>1.000000</td>\n",
       "      <td>0.412722</td>\n",
       "      <td>0.264927</td>\n",
       "      <td>0.268846</td>\n",
       "      <td>0.078216</td>\n",
       "      <td>0.017771</td>\n",
       "      <td>0.315113</td>\n",
       "      <td>0.168454</td>\n",
       "      <td>0.092008</td>\n",
       "      <td>0.000795</td>\n",
       "      <td>0.170544</td>\n",
       "      <td>0.061760</td>\n",
       "      <td>0.113697</td>\n",
       "      <td>0.054094</td>\n",
       "      <td>0.055320</td>\n",
       "      <td>0.552356</td>\n",
       "      <td>0.126816</td>\n",
       "      <td>0.441074</td>\n",
       "    </tr>\n",
       "    <tr>\n",
       "      <th>A4_Score</th>\n",
       "      <td>0.127814</td>\n",
       "      <td>0.158998</td>\n",
       "      <td>0.412722</td>\n",
       "      <td>1.000000</td>\n",
       "      <td>0.306806</td>\n",
       "      <td>0.295152</td>\n",
       "      <td>0.151236</td>\n",
       "      <td>0.008617</td>\n",
       "      <td>0.327673</td>\n",
       "      <td>0.210968</td>\n",
       "      <td>0.100970</td>\n",
       "      <td>-0.056508</td>\n",
       "      <td>0.206303</td>\n",
       "      <td>0.064918</td>\n",
       "      <td>0.193820</td>\n",
       "      <td>0.046927</td>\n",
       "      <td>0.023071</td>\n",
       "      <td>0.586025</td>\n",
       "      <td>0.112273</td>\n",
       "      <td>0.469945</td>\n",
       "    </tr>\n",
       "    <tr>\n",
       "      <th>A5_Score</th>\n",
       "      <td>0.169369</td>\n",
       "      <td>0.153821</td>\n",
       "      <td>0.264927</td>\n",
       "      <td>0.306806</td>\n",
       "      <td>1.000000</td>\n",
       "      <td>0.392354</td>\n",
       "      <td>0.238589</td>\n",
       "      <td>0.102086</td>\n",
       "      <td>0.396582</td>\n",
       "      <td>0.267561</td>\n",
       "      <td>0.006067</td>\n",
       "      <td>-0.039688</td>\n",
       "      <td>0.071006</td>\n",
       "      <td>0.034378</td>\n",
       "      <td>0.090009</td>\n",
       "      <td>-0.019358</td>\n",
       "      <td>0.000374</td>\n",
       "      <td>0.639706</td>\n",
       "      <td>0.152599</td>\n",
       "      <td>0.537004</td>\n",
       "    </tr>\n",
       "    <tr>\n",
       "      <th>A6_Score</th>\n",
       "      <td>0.110199</td>\n",
       "      <td>0.185864</td>\n",
       "      <td>0.268846</td>\n",
       "      <td>0.295152</td>\n",
       "      <td>0.392354</td>\n",
       "      <td>1.000000</td>\n",
       "      <td>0.175489</td>\n",
       "      <td>0.100123</td>\n",
       "      <td>0.479422</td>\n",
       "      <td>0.294435</td>\n",
       "      <td>0.088029</td>\n",
       "      <td>-0.083615</td>\n",
       "      <td>0.176092</td>\n",
       "      <td>0.078366</td>\n",
       "      <td>0.114048</td>\n",
       "      <td>-0.010930</td>\n",
       "      <td>0.087378</td>\n",
       "      <td>0.630012</td>\n",
       "      <td>0.078927</td>\n",
       "      <td>0.592091</td>\n",
       "    </tr>\n",
       "    <tr>\n",
       "      <th>A7_Score</th>\n",
       "      <td>0.217538</td>\n",
       "      <td>-0.041768</td>\n",
       "      <td>0.078216</td>\n",
       "      <td>0.151236</td>\n",
       "      <td>0.238589</td>\n",
       "      <td>0.175489</td>\n",
       "      <td>1.000000</td>\n",
       "      <td>0.085403</td>\n",
       "      <td>0.189480</td>\n",
       "      <td>0.252107</td>\n",
       "      <td>-0.004196</td>\n",
       "      <td>0.061900</td>\n",
       "      <td>0.025271</td>\n",
       "      <td>0.030850</td>\n",
       "      <td>-0.008610</td>\n",
       "      <td>-0.017262</td>\n",
       "      <td>-0.022505</td>\n",
       "      <td>0.454848</td>\n",
       "      <td>0.067205</td>\n",
       "      <td>0.351429</td>\n",
       "    </tr>\n",
       "    <tr>\n",
       "      <th>A8_Score</th>\n",
       "      <td>0.147640</td>\n",
       "      <td>0.035408</td>\n",
       "      <td>0.017771</td>\n",
       "      <td>0.008617</td>\n",
       "      <td>0.102086</td>\n",
       "      <td>0.100123</td>\n",
       "      <td>0.085403</td>\n",
       "      <td>1.000000</td>\n",
       "      <td>0.101733</td>\n",
       "      <td>0.100782</td>\n",
       "      <td>-0.072787</td>\n",
       "      <td>0.064127</td>\n",
       "      <td>-0.012528</td>\n",
       "      <td>0.012101</td>\n",
       "      <td>0.034845</td>\n",
       "      <td>-0.044392</td>\n",
       "      <td>-0.041155</td>\n",
       "      <td>0.324020</td>\n",
       "      <td>0.103845</td>\n",
       "      <td>0.237161</td>\n",
       "    </tr>\n",
       "    <tr>\n",
       "      <th>A9_Score</th>\n",
       "      <td>0.145452</td>\n",
       "      <td>0.205421</td>\n",
       "      <td>0.315113</td>\n",
       "      <td>0.327673</td>\n",
       "      <td>0.396582</td>\n",
       "      <td>0.479422</td>\n",
       "      <td>0.189480</td>\n",
       "      <td>0.101733</td>\n",
       "      <td>1.000000</td>\n",
       "      <td>0.283340</td>\n",
       "      <td>0.124857</td>\n",
       "      <td>0.006940</td>\n",
       "      <td>0.131504</td>\n",
       "      <td>0.057717</td>\n",
       "      <td>0.167644</td>\n",
       "      <td>-0.073850</td>\n",
       "      <td>0.049567</td>\n",
       "      <td>0.661205</td>\n",
       "      <td>0.062633</td>\n",
       "      <td>0.635576</td>\n",
       "    </tr>\n",
       "    <tr>\n",
       "      <th>A10_Score</th>\n",
       "      <td>0.118413</td>\n",
       "      <td>0.068883</td>\n",
       "      <td>0.168454</td>\n",
       "      <td>0.210968</td>\n",
       "      <td>0.267561</td>\n",
       "      <td>0.294435</td>\n",
       "      <td>0.252107</td>\n",
       "      <td>0.100782</td>\n",
       "      <td>0.283340</td>\n",
       "      <td>1.000000</td>\n",
       "      <td>0.043827</td>\n",
       "      <td>-0.055246</td>\n",
       "      <td>0.120097</td>\n",
       "      <td>0.052201</td>\n",
       "      <td>0.117969</td>\n",
       "      <td>0.025746</td>\n",
       "      <td>-0.041860</td>\n",
       "      <td>0.537205</td>\n",
       "      <td>0.130232</td>\n",
       "      <td>0.385917</td>\n",
       "    </tr>\n",
       "    <tr>\n",
       "      <th>age</th>\n",
       "      <td>0.010172</td>\n",
       "      <td>0.078517</td>\n",
       "      <td>0.092008</td>\n",
       "      <td>0.100970</td>\n",
       "      <td>0.006067</td>\n",
       "      <td>0.088029</td>\n",
       "      <td>-0.004196</td>\n",
       "      <td>-0.072787</td>\n",
       "      <td>0.124857</td>\n",
       "      <td>0.043827</td>\n",
       "      <td>1.000000</td>\n",
       "      <td>-0.039139</td>\n",
       "      <td>0.201247</td>\n",
       "      <td>0.127327</td>\n",
       "      <td>0.182778</td>\n",
       "      <td>0.086395</td>\n",
       "      <td>-0.035222</td>\n",
       "      <td>0.090407</td>\n",
       "      <td>0.083406</td>\n",
       "      <td>0.129744</td>\n",
       "    </tr>\n",
       "    <tr>\n",
       "      <th>gender</th>\n",
       "      <td>-0.075011</td>\n",
       "      <td>-0.047393</td>\n",
       "      <td>0.000795</td>\n",
       "      <td>-0.056508</td>\n",
       "      <td>-0.039688</td>\n",
       "      <td>-0.083615</td>\n",
       "      <td>0.061900</td>\n",
       "      <td>0.064127</td>\n",
       "      <td>0.006940</td>\n",
       "      <td>-0.055246</td>\n",
       "      <td>-0.039139</td>\n",
       "      <td>1.000000</td>\n",
       "      <td>-0.086721</td>\n",
       "      <td>-0.018842</td>\n",
       "      <td>-0.088477</td>\n",
       "      <td>-0.021409</td>\n",
       "      <td>-0.027584</td>\n",
       "      <td>-0.042231</td>\n",
       "      <td>-0.003793</td>\n",
       "      <td>-0.080378</td>\n",
       "    </tr>\n",
       "    <tr>\n",
       "      <th>ethnicity</th>\n",
       "      <td>0.107554</td>\n",
       "      <td>0.172701</td>\n",
       "      <td>0.170544</td>\n",
       "      <td>0.206303</td>\n",
       "      <td>0.071006</td>\n",
       "      <td>0.176092</td>\n",
       "      <td>0.025271</td>\n",
       "      <td>-0.012528</td>\n",
       "      <td>0.131504</td>\n",
       "      <td>0.120097</td>\n",
       "      <td>0.201247</td>\n",
       "      <td>-0.086721</td>\n",
       "      <td>1.000000</td>\n",
       "      <td>0.072715</td>\n",
       "      <td>0.157428</td>\n",
       "      <td>0.139733</td>\n",
       "      <td>-0.036933</td>\n",
       "      <td>0.225871</td>\n",
       "      <td>0.077100</td>\n",
       "      <td>0.224902</td>\n",
       "    </tr>\n",
       "    <tr>\n",
       "      <th>jundice</th>\n",
       "      <td>-0.019077</td>\n",
       "      <td>0.112615</td>\n",
       "      <td>0.061760</td>\n",
       "      <td>0.064918</td>\n",
       "      <td>0.034378</td>\n",
       "      <td>0.078366</td>\n",
       "      <td>0.030850</td>\n",
       "      <td>0.012101</td>\n",
       "      <td>0.057717</td>\n",
       "      <td>0.052201</td>\n",
       "      <td>0.127327</td>\n",
       "      <td>-0.018842</td>\n",
       "      <td>0.072715</td>\n",
       "      <td>1.000000</td>\n",
       "      <td>0.157793</td>\n",
       "      <td>0.049917</td>\n",
       "      <td>0.030407</td>\n",
       "      <td>0.094842</td>\n",
       "      <td>-0.055397</td>\n",
       "      <td>0.102152</td>\n",
       "    </tr>\n",
       "    <tr>\n",
       "      <th>austim</th>\n",
       "      <td>0.097630</td>\n",
       "      <td>0.074555</td>\n",
       "      <td>0.113697</td>\n",
       "      <td>0.193820</td>\n",
       "      <td>0.090009</td>\n",
       "      <td>0.114048</td>\n",
       "      <td>-0.008610</td>\n",
       "      <td>0.034845</td>\n",
       "      <td>0.167644</td>\n",
       "      <td>0.117969</td>\n",
       "      <td>0.182778</td>\n",
       "      <td>-0.088477</td>\n",
       "      <td>0.157428</td>\n",
       "      <td>0.157793</td>\n",
       "      <td>1.000000</td>\n",
       "      <td>-0.020307</td>\n",
       "      <td>0.014682</td>\n",
       "      <td>0.192033</td>\n",
       "      <td>0.018108</td>\n",
       "      <td>0.177415</td>\n",
       "    </tr>\n",
       "    <tr>\n",
       "      <th>contry_of_res</th>\n",
       "      <td>0.024271</td>\n",
       "      <td>0.142462</td>\n",
       "      <td>0.054094</td>\n",
       "      <td>0.046927</td>\n",
       "      <td>-0.019358</td>\n",
       "      <td>-0.010930</td>\n",
       "      <td>-0.017262</td>\n",
       "      <td>-0.044392</td>\n",
       "      <td>-0.073850</td>\n",
       "      <td>0.025746</td>\n",
       "      <td>0.086395</td>\n",
       "      <td>-0.021409</td>\n",
       "      <td>0.139733</td>\n",
       "      <td>0.049917</td>\n",
       "      <td>-0.020307</td>\n",
       "      <td>1.000000</td>\n",
       "      <td>-0.017405</td>\n",
       "      <td>0.026433</td>\n",
       "      <td>0.140132</td>\n",
       "      <td>0.016882</td>\n",
       "    </tr>\n",
       "    <tr>\n",
       "      <th>used_app_before</th>\n",
       "      <td>-0.040620</td>\n",
       "      <td>-0.009645</td>\n",
       "      <td>0.055320</td>\n",
       "      <td>0.023071</td>\n",
       "      <td>0.000374</td>\n",
       "      <td>0.087378</td>\n",
       "      <td>-0.022505</td>\n",
       "      <td>-0.041155</td>\n",
       "      <td>0.049567</td>\n",
       "      <td>-0.041860</td>\n",
       "      <td>-0.035222</td>\n",
       "      <td>-0.027584</td>\n",
       "      <td>-0.036933</td>\n",
       "      <td>0.030407</td>\n",
       "      <td>0.014682</td>\n",
       "      <td>-0.017405</td>\n",
       "      <td>1.000000</td>\n",
       "      <td>0.010975</td>\n",
       "      <td>-0.013228</td>\n",
       "      <td>0.044038</td>\n",
       "    </tr>\n",
       "    <tr>\n",
       "      <th>result</th>\n",
       "      <td>0.397454</td>\n",
       "      <td>0.392540</td>\n",
       "      <td>0.552356</td>\n",
       "      <td>0.586025</td>\n",
       "      <td>0.639706</td>\n",
       "      <td>0.630012</td>\n",
       "      <td>0.454848</td>\n",
       "      <td>0.324020</td>\n",
       "      <td>0.661205</td>\n",
       "      <td>0.537205</td>\n",
       "      <td>0.090407</td>\n",
       "      <td>-0.042231</td>\n",
       "      <td>0.225871</td>\n",
       "      <td>0.094842</td>\n",
       "      <td>0.192033</td>\n",
       "      <td>0.026433</td>\n",
       "      <td>0.010975</td>\n",
       "      <td>1.000000</td>\n",
       "      <td>0.193252</td>\n",
       "      <td>0.821445</td>\n",
       "    </tr>\n",
       "    <tr>\n",
       "      <th>relation</th>\n",
       "      <td>0.104736</td>\n",
       "      <td>0.057278</td>\n",
       "      <td>0.126816</td>\n",
       "      <td>0.112273</td>\n",
       "      <td>0.152599</td>\n",
       "      <td>0.078927</td>\n",
       "      <td>0.067205</td>\n",
       "      <td>0.103845</td>\n",
       "      <td>0.062633</td>\n",
       "      <td>0.130232</td>\n",
       "      <td>0.083406</td>\n",
       "      <td>-0.003793</td>\n",
       "      <td>0.077100</td>\n",
       "      <td>-0.055397</td>\n",
       "      <td>0.018108</td>\n",
       "      <td>0.140132</td>\n",
       "      <td>-0.013228</td>\n",
       "      <td>0.193252</td>\n",
       "      <td>1.000000</td>\n",
       "      <td>0.152342</td>\n",
       "    </tr>\n",
       "    <tr>\n",
       "      <th>Class/ASD</th>\n",
       "      <td>0.297628</td>\n",
       "      <td>0.311382</td>\n",
       "      <td>0.441074</td>\n",
       "      <td>0.469945</td>\n",
       "      <td>0.537004</td>\n",
       "      <td>0.592091</td>\n",
       "      <td>0.351429</td>\n",
       "      <td>0.237161</td>\n",
       "      <td>0.635576</td>\n",
       "      <td>0.385917</td>\n",
       "      <td>0.129744</td>\n",
       "      <td>-0.080378</td>\n",
       "      <td>0.224902</td>\n",
       "      <td>0.102152</td>\n",
       "      <td>0.177415</td>\n",
       "      <td>0.016882</td>\n",
       "      <td>0.044038</td>\n",
       "      <td>0.821445</td>\n",
       "      <td>0.152342</td>\n",
       "      <td>1.000000</td>\n",
       "    </tr>\n",
       "  </tbody>\n",
       "</table>\n",
       "</div>"
      ],
      "text/plain": [
       "                 A1_Score  A2_Score  A3_Score  A4_Score  A5_Score  A6_Score  \\\n",
       "A1_Score         1.000000  0.011539  0.074096  0.127814  0.169369  0.110199   \n",
       "A2_Score         0.011539  1.000000  0.223921  0.158998  0.153821  0.185864   \n",
       "A3_Score         0.074096  0.223921  1.000000  0.412722  0.264927  0.268846   \n",
       "A4_Score         0.127814  0.158998  0.412722  1.000000  0.306806  0.295152   \n",
       "A5_Score         0.169369  0.153821  0.264927  0.306806  1.000000  0.392354   \n",
       "A6_Score         0.110199  0.185864  0.268846  0.295152  0.392354  1.000000   \n",
       "A7_Score         0.217538 -0.041768  0.078216  0.151236  0.238589  0.175489   \n",
       "A8_Score         0.147640  0.035408  0.017771  0.008617  0.102086  0.100123   \n",
       "A9_Score         0.145452  0.205421  0.315113  0.327673  0.396582  0.479422   \n",
       "A10_Score        0.118413  0.068883  0.168454  0.210968  0.267561  0.294435   \n",
       "age              0.010172  0.078517  0.092008  0.100970  0.006067  0.088029   \n",
       "gender          -0.075011 -0.047393  0.000795 -0.056508 -0.039688 -0.083615   \n",
       "ethnicity        0.107554  0.172701  0.170544  0.206303  0.071006  0.176092   \n",
       "jundice         -0.019077  0.112615  0.061760  0.064918  0.034378  0.078366   \n",
       "austim           0.097630  0.074555  0.113697  0.193820  0.090009  0.114048   \n",
       "contry_of_res    0.024271  0.142462  0.054094  0.046927 -0.019358 -0.010930   \n",
       "used_app_before -0.040620 -0.009645  0.055320  0.023071  0.000374  0.087378   \n",
       "result           0.397454  0.392540  0.552356  0.586025  0.639706  0.630012   \n",
       "relation         0.104736  0.057278  0.126816  0.112273  0.152599  0.078927   \n",
       "Class/ASD        0.297628  0.311382  0.441074  0.469945  0.537004  0.592091   \n",
       "\n",
       "                 A7_Score  A8_Score  A9_Score  A10_Score       age    gender  \\\n",
       "A1_Score         0.217538  0.147640  0.145452   0.118413  0.010172 -0.075011   \n",
       "A2_Score        -0.041768  0.035408  0.205421   0.068883  0.078517 -0.047393   \n",
       "A3_Score         0.078216  0.017771  0.315113   0.168454  0.092008  0.000795   \n",
       "A4_Score         0.151236  0.008617  0.327673   0.210968  0.100970 -0.056508   \n",
       "A5_Score         0.238589  0.102086  0.396582   0.267561  0.006067 -0.039688   \n",
       "A6_Score         0.175489  0.100123  0.479422   0.294435  0.088029 -0.083615   \n",
       "A7_Score         1.000000  0.085403  0.189480   0.252107 -0.004196  0.061900   \n",
       "A8_Score         0.085403  1.000000  0.101733   0.100782 -0.072787  0.064127   \n",
       "A9_Score         0.189480  0.101733  1.000000   0.283340  0.124857  0.006940   \n",
       "A10_Score        0.252107  0.100782  0.283340   1.000000  0.043827 -0.055246   \n",
       "age             -0.004196 -0.072787  0.124857   0.043827  1.000000 -0.039139   \n",
       "gender           0.061900  0.064127  0.006940  -0.055246 -0.039139  1.000000   \n",
       "ethnicity        0.025271 -0.012528  0.131504   0.120097  0.201247 -0.086721   \n",
       "jundice          0.030850  0.012101  0.057717   0.052201  0.127327 -0.018842   \n",
       "austim          -0.008610  0.034845  0.167644   0.117969  0.182778 -0.088477   \n",
       "contry_of_res   -0.017262 -0.044392 -0.073850   0.025746  0.086395 -0.021409   \n",
       "used_app_before -0.022505 -0.041155  0.049567  -0.041860 -0.035222 -0.027584   \n",
       "result           0.454848  0.324020  0.661205   0.537205  0.090407 -0.042231   \n",
       "relation         0.067205  0.103845  0.062633   0.130232  0.083406 -0.003793   \n",
       "Class/ASD        0.351429  0.237161  0.635576   0.385917  0.129744 -0.080378   \n",
       "\n",
       "                 ethnicity   jundice    austim  contry_of_res  \\\n",
       "A1_Score          0.107554 -0.019077  0.097630       0.024271   \n",
       "A2_Score          0.172701  0.112615  0.074555       0.142462   \n",
       "A3_Score          0.170544  0.061760  0.113697       0.054094   \n",
       "A4_Score          0.206303  0.064918  0.193820       0.046927   \n",
       "A5_Score          0.071006  0.034378  0.090009      -0.019358   \n",
       "A6_Score          0.176092  0.078366  0.114048      -0.010930   \n",
       "A7_Score          0.025271  0.030850 -0.008610      -0.017262   \n",
       "A8_Score         -0.012528  0.012101  0.034845      -0.044392   \n",
       "A9_Score          0.131504  0.057717  0.167644      -0.073850   \n",
       "A10_Score         0.120097  0.052201  0.117969       0.025746   \n",
       "age               0.201247  0.127327  0.182778       0.086395   \n",
       "gender           -0.086721 -0.018842 -0.088477      -0.021409   \n",
       "ethnicity         1.000000  0.072715  0.157428       0.139733   \n",
       "jundice           0.072715  1.000000  0.157793       0.049917   \n",
       "austim            0.157428  0.157793  1.000000      -0.020307   \n",
       "contry_of_res     0.139733  0.049917 -0.020307       1.000000   \n",
       "used_app_before  -0.036933  0.030407  0.014682      -0.017405   \n",
       "result            0.225871  0.094842  0.192033       0.026433   \n",
       "relation          0.077100 -0.055397  0.018108       0.140132   \n",
       "Class/ASD         0.224902  0.102152  0.177415       0.016882   \n",
       "\n",
       "                 used_app_before    result  relation  Class/ASD  \n",
       "A1_Score               -0.040620  0.397454  0.104736   0.297628  \n",
       "A2_Score               -0.009645  0.392540  0.057278   0.311382  \n",
       "A3_Score                0.055320  0.552356  0.126816   0.441074  \n",
       "A4_Score                0.023071  0.586025  0.112273   0.469945  \n",
       "A5_Score                0.000374  0.639706  0.152599   0.537004  \n",
       "A6_Score                0.087378  0.630012  0.078927   0.592091  \n",
       "A7_Score               -0.022505  0.454848  0.067205   0.351429  \n",
       "A8_Score               -0.041155  0.324020  0.103845   0.237161  \n",
       "A9_Score                0.049567  0.661205  0.062633   0.635576  \n",
       "A10_Score              -0.041860  0.537205  0.130232   0.385917  \n",
       "age                    -0.035222  0.090407  0.083406   0.129744  \n",
       "gender                 -0.027584 -0.042231 -0.003793  -0.080378  \n",
       "ethnicity              -0.036933  0.225871  0.077100   0.224902  \n",
       "jundice                 0.030407  0.094842 -0.055397   0.102152  \n",
       "austim                  0.014682  0.192033  0.018108   0.177415  \n",
       "contry_of_res          -0.017405  0.026433  0.140132   0.016882  \n",
       "used_app_before         1.000000  0.010975 -0.013228   0.044038  \n",
       "result                  0.010975  1.000000  0.193252   0.821445  \n",
       "relation               -0.013228  0.193252  1.000000   0.152342  \n",
       "Class/ASD               0.044038  0.821445  0.152342   1.000000  "
      ]
     },
     "execution_count": 23,
     "metadata": {},
     "output_type": "execute_result"
    }
   ],
   "source": [
    "# Checking for correlation between the columns\n",
    "correlation = df.corr()\n",
    "correlation"
   ]
  },
  {
   "cell_type": "code",
   "execution_count": 24,
   "id": "3a3c0c36",
   "metadata": {},
   "outputs": [
    {
     "data": {
      "image/png": "[encoded data removed]",
      "text/plain": [
       "<Figure size 2000x800 with 2 Axes>"
      ]
     },
     "metadata": {},
     "output_type": "display_data"
    }
   ],
   "source": [
    "# Visualize it in a heatmap\n",
    "plt.figure(figsize=(20,8))\n",
    "sns.heatmap(correlation)\n",
    "plt.title(\"A CORRELATION HEATMAP FOR OUR DATA\")\n",
    "plt.show()"
   ]
  },
  {
   "cell_type": "markdown",
   "id": "4925741d",
   "metadata": {},
   "source": [
    "# FINAL PREPROCESSING "
   ]
  },
  {
   "cell_type": "code",
   "execution_count": 25,
   "id": "365452f9",
   "metadata": {},
   "outputs": [],
   "source": [
    "# here i WILL SELECT the  target features \n",
    "X = df.drop(['contry_of_res','used_app_before','austim'],axis=1)\n",
    "y = df['austim']\n",
    "X = StandardScaler().fit_transform(X)\n",
    "X_train,X_test,y_train,y_test = train_test_split(X,y,random_state=42,test_size=0.2) # splitting data into training and test\n"
   ]
  },
  {
   "cell_type": "markdown",
   "id": "57b4b56b",
   "metadata": {},
   "source": [
    "# CLASSICAL MACHINE LEARNING : PART ONE - ENSEMBLE AND LOGISTIC REGRESSION\n",
    "In This part I will create train and ensemble model and evaluate it.Since the Outcome is binary I will experiment with\n",
    "a Logistic Regression model"
   ]
  },
  {
   "cell_type": "code",
   "execution_count": 26,
   "id": "efe05d42",
   "metadata": {},
   "outputs": [
    {
     "name": "stdout",
     "output_type": "stream",
     "text": [
      "Classification Report               precision    recall  f1-score   support\n",
      "\n",
      "           0       0.90      0.95      0.93       128\n",
      "           1       0.00      0.00      0.00        13\n",
      "\n",
      "    accuracy                           0.87       141\n",
      "   macro avg       0.45      0.48      0.46       141\n",
      "weighted avg       0.82      0.87      0.84       141\n",
      "\n"
     ]
    }
   ],
   "source": [
    "from sklearn.metrics import classification_report,mean_squared_error\n",
    "rfc = RandomForestClassifier()\n",
    "rfc.fit(X_train,y_train)\n",
    "rf_predictions = rfc.predict(X_test)\n",
    "print(f\"Classification Report {classification_report(y_test,rf_predictions)}\")"
   ]
  },
  {
   "cell_type": "code",
   "execution_count": 27,
   "id": "831fd73f",
   "metadata": {},
   "outputs": [
    {
     "name": "stdout",
     "output_type": "stream",
     "text": [
      "MeanSquared Error 0.1347517730496454\n"
     ]
    }
   ],
   "source": [
    "lr = LogisticRegression()\n",
    "lr.fit(X_train,y_train)\n",
    "lr_predictions = rfc.predict(X_test)\n",
    "print(f\"MeanSquared Error {mean_squared_error(y_test,lr_predictions)}\")"
   ]
  },
  {
   "cell_type": "markdown",
   "id": "1696c998",
   "metadata": {},
   "source": [
    "# CLASSICAL MACHINE LEARNING : PART TWO - DEEP LEARNING \n",
    "In This part I will build a deep learning model using Pytorch framework."
   ]
  },
  {
   "cell_type": "code",
   "execution_count": 28,
   "id": "f4098f5a",
   "metadata": {},
   "outputs": [],
   "source": [
    "# Ill convert the arrays into tensors\n",
    "X_train_tensor = torch.from_numpy(X_train).type(torch.Tensor)\n",
    "X_test_tensor = torch.from_numpy(X_test).type(torch.Tensor)\n",
    "y_train_tensor = torch.from_numpy(y_train.values.reshape(-1,1)).type(torch.Tensor)\n",
    "y_test_tensor = torch.from_numpy(y_test.values.reshape(-1,1)).type(torch.Tensor)"
   ]
  },
  {
   "cell_type": "code",
   "execution_count": 29,
   "id": "bd03620d",
   "metadata": {},
   "outputs": [
    {
     "data": {
      "text/plain": [
       "torch.Size([563, 17])"
      ]
     },
     "execution_count": 29,
     "metadata": {},
     "output_type": "execute_result"
    }
   ],
   "source": [
    "X_train_tensor.shape"
   ]
  },
  {
   "cell_type": "code",
   "execution_count": 30,
   "id": "a4c3131b",
   "metadata": {},
   "outputs": [
    {
     "data": {
      "text/plain": [
       "torch.Size([563, 1])"
      ]
     },
     "execution_count": 30,
     "metadata": {},
     "output_type": "execute_result"
    }
   ],
   "source": [
    "y_train_tensor.shape"
   ]
  },
  {
   "cell_type": "code",
   "execution_count": 31,
   "id": "951fb081",
   "metadata": {},
   "outputs": [],
   "source": [
    "# Autism Predictor model\n",
    "class AutismPredictor(nn.Module):\n",
    "    def __init__(self,input_dim=17,hidden_dim=68,output_dim=1,p=0.3):\n",
    "        super().__init__()\n",
    "        self.input_dim = input_dim\n",
    "        self.hidden_dim = hidden_dim\n",
    "        self.output_dim = output_dim\n",
    "        self.linear1 = nn.Linear(input_dim,hidden_dim)\n",
    "        self.linear2 = nn.Linear(hidden_dim,hidden_dim)\n",
    "        self.fc = nn.Linear(hidden_dim,output_dim)\n",
    "        self.dropout = nn.Dropout(p)\n",
    "    def forward(self,x:torch.tensor):\n",
    "        x = self.dropout(self.linear1(x))\n",
    "        x = self.linear2(x)\n",
    "        x = self.fc(x)\n",
    "        return x\n",
    "        "
   ]
  },
  {
   "cell_type": "code",
   "execution_count": 32,
   "id": "5957a5f5",
   "metadata": {},
   "outputs": [],
   "source": [
    "model = AutismPredictor()"
   ]
  },
  {
   "cell_type": "code",
   "execution_count": 33,
   "id": "9b7fbfe4",
   "metadata": {},
   "outputs": [],
   "source": [
    "optimizer = torch.optim.SGD(model.parameters(),lr=0.03)\n",
    "criterion = nn.BCEWithLogitsLoss()"
   ]
  },
  {
   "cell_type": "code",
   "execution_count": 34,
   "id": "b5e5d4a7",
   "metadata": {},
   "outputs": [],
   "source": [
    "def training_and_testing(epochs,X_train=X_train_tensor,y_train = y_train_tensor,X_test = X_test_tensor,y_test = y_test_tensor,model=model):\n",
    "    for epoch in range(epochs):\n",
    "        model.train()\n",
    "        y_pred = model.forward(X_train)\n",
    "        loss = criterion(y_pred,y_train)\n",
    "        optimizer.zero_grad()\n",
    "        loss.backward()\n",
    "        optimizer.step()\n",
    "        with torch.no_grad():\n",
    "            model.eval()\n",
    "            y_pred = model.forward(X_test)\n",
    "            testing_loss = criterion(y_pred,y_test)\n",
    "            print(f\"Epoch:{epoch}|Training Loss{loss}|Testing Loss{testing_loss}\")"
   ]
  },
  {
   "cell_type": "code",
   "execution_count": 35,
   "id": "ae6843da",
   "metadata": {},
   "outputs": [
    {
     "name": "stdout",
     "output_type": "stream",
     "text": [
      "Epoch:0|Training Loss0.6821370124816895|Testing Loss0.6679916977882385\n",
      "Epoch:1|Training Loss0.6662833094596863|Testing Loss0.6567949056625366\n",
      "Epoch:2|Training Loss0.661869466304779|Testing Loss0.6461134552955627\n",
      "Epoch:3|Training Loss0.6494418978691101|Testing Loss0.6359957456588745\n",
      "Epoch:4|Training Loss0.6415733695030212|Testing Loss0.6262692213058472\n",
      "Epoch:5|Training Loss0.6340931057929993|Testing Loss0.6167495846748352\n",
      "Epoch:6|Training Loss0.6257568001747131|Testing Loss0.6076076626777649\n",
      "Epoch:7|Training Loss0.608900785446167|Testing Loss0.5988345742225647\n",
      "Epoch:8|Training Loss0.6056392788887024|Testing Loss0.5904232859611511\n",
      "Epoch:9|Training Loss0.5978325009346008|Testing Loss0.58230060338974\n",
      "Epoch:10|Training Loss0.5907389521598816|Testing Loss0.5743991732597351\n",
      "Epoch:11|Training Loss0.5823201537132263|Testing Loss0.5668326616287231\n",
      "Epoch:12|Training Loss0.5780519843101501|Testing Loss0.5594479441642761\n",
      "Epoch:13|Training Loss0.5698044896125793|Testing Loss0.5523696541786194\n",
      "Epoch:14|Training Loss0.5639880299568176|Testing Loss0.5453256368637085\n",
      "Epoch:15|Training Loss0.5599732995033264|Testing Loss0.5385568737983704\n",
      "Epoch:16|Training Loss0.5478203892707825|Testing Loss0.5320300459861755\n",
      "Epoch:17|Training Loss0.5426846742630005|Testing Loss0.5257502794265747\n",
      "Epoch:18|Training Loss0.5418620109558105|Testing Loss0.5197175741195679\n",
      "Epoch:19|Training Loss0.5379038453102112|Testing Loss0.5138660669326782\n"
     ]
    }
   ],
   "source": [
    "training_and_testing(epochs=20)"
   ]
  },
  {
   "cell_type": "code",
   "execution_count": 36,
   "id": "58463418",
   "metadata": {},
   "outputs": [
    {
     "name": "stdout",
     "output_type": "stream",
     "text": [
      "The first 10 predictions are tensor([[-0.2564],\n",
      "        [-0.4587],\n",
      "        [-0.7499],\n",
      "        [-0.3950],\n",
      "        [-0.4635],\n",
      "        [-0.8304],\n",
      "        [-0.3556],\n",
      "        [-0.9397],\n",
      "        [-0.3029],\n",
      "        [-0.3366]])\n"
     ]
    }
   ],
   "source": [
    "# Lets see some of the predictions by our deep learning model\n",
    "torch.manual_seed(18102023)\n",
    "with torch.inference_mode():\n",
    "    predictions = model.forward(X_test_tensor[:10])\n",
    "    print(f\"The first 10 predictions are {predictions}\")"
   ]
  },
  {
   "cell_type": "code",
   "execution_count": 37,
   "id": "87164713",
   "metadata": {},
   "outputs": [
    {
     "data": {
      "text/plain": [
       "17"
      ]
     },
     "execution_count": 37,
     "metadata": {},
     "output_type": "execute_result"
    }
   ],
   "source": [
    "X_train.shape[1]"
   ]
  },
  {
   "cell_type": "markdown",
   "id": "56338212",
   "metadata": {},
   "source": [
    "# QUANTUM MACHINE LEARNING"
   ]
  },
  {
   "cell_type": "code",
   "execution_count": 59,
   "id": "eb97158a",
   "metadata": {},
   "outputs": [],
   "source": [
    "# Since this is experimental, I will use part of my data ,I will the dimension to around 4 ,using PCA\n",
    "from sklearn.decomposition import PCA\n",
    "pca = PCA(n_components = 4)\n",
    "X = df.drop(['contry_of_res','used_app_before','austim'],axis=1).head(200)\n",
    "y = df['austim'].head(200)\n",
    "X = StandardScaler().fit_transform(X)\n",
    "\n",
    "X_quantum = pca.fit_transform(X)\n",
    "y_quantum = y\n",
    "X_train_q,X_test_q,y_train_q,y_test_q = train_test_split(X_quantum,y_quantum,random_state=42,test_size=0.2)\n"
   ]
  },
  {
   "cell_type": "code",
   "execution_count": 60,
   "id": "a1d646e8",
   "metadata": {},
   "outputs": [
    {
     "data": {
      "text/plain": [
       "(160, 4)"
      ]
     },
     "execution_count": 60,
     "metadata": {},
     "output_type": "execute_result"
    }
   ],
   "source": [
    "X_train_q.shape"
   ]
  },
  {
   "cell_type": "code",
   "execution_count": 61,
   "id": "9ec9f122",
   "metadata": {},
   "outputs": [
    {
     "data": {
      "image/png": "[encoded data removed]",
      "text/plain": [
       "<Figure size 1583.72x451.5 with 1 Axes>"
      ]
     },
     "execution_count": 61,
     "metadata": {},
     "output_type": "execute_result"
    }
   ],
   "source": [
    "# Here I am creating a parametrized quantum circuit and feeding in my classical data where they will be transformed\n",
    "qc = QuantumCircuit(4)\n",
    "feature_map = ZZFeatureMap(4)\n",
    "ansatz = RealAmplitudes(4)\n",
    "ansatz.measure_all()\n",
    "qc.compose(feature_map,inplace=True)\n",
    "qc.compose(ansatz,inplace=True)\n",
    "qc.decompose()\n",
    "qc.draw(\"mpl\")"
   ]
  },
  {
   "cell_type": "code",
   "execution_count": 62,
   "id": "697ff15a",
   "metadata": {},
   "outputs": [],
   "source": [
    "# The VQC algorithm requires us to one hot encode our variables and so I will utilize the One Hot Encoder algorithm from sklearn\n",
    "from sklearn.preprocessing import OneHotEncoder\n",
    "encoder = OneHotEncoder()\n",
    "y_train_oh = encoder.fit_transform(y_train_q.values.reshape(-1,1))\n",
    "y_test_oh =  encoder.fit_transform(y_test_q.values.reshape(-1,1))"
   ]
  },
  {
   "cell_type": "code",
   "execution_count": 63,
   "id": "ae226619",
   "metadata": {},
   "outputs": [
    {
     "data": {
      "text/plain": [
       "array([0.50745978, 0.67764556, 0.09251989, 0.19374346, 0.08489132,\n",
       "       0.30448487, 0.76613446, 0.09976319, 0.47086358, 0.9407321 ,\n",
       "       0.38569199, 0.35014103, 0.45492304, 0.39851113, 0.82705445,\n",
       "       0.10955388])"
      ]
     },
     "execution_count": 63,
     "metadata": {},
     "output_type": "execute_result"
    }
   ],
   "source": [
    "# I will create an initial point for our weights,like the initial weights assigned to any Machine Learning model\n",
    "initial_weights = np.random.random(ansatz.num_parameters)\n",
    "initial_weights"
   ]
  },
  {
   "cell_type": "code",
   "execution_count": 64,
   "id": "33197c54",
   "metadata": {},
   "outputs": [],
   "source": [
    "vqc = VQC(feature_map=feature_map,ansatz=ansatz,optimizer=SPSA(maxiter=30),initial_point=initial_weights)"
   ]
  },
  {
   "cell_type": "code",
   "execution_count": null,
   "id": "53604b53",
   "metadata": {},
   "outputs": [],
   "source": [
    "vqc.fit(X_train_q,y_train_oh)"
   ]
  },
  {
   "cell_type": "code",
   "execution_count": 4,
   "id": "6f482f5d",
   "metadata": {},
   "outputs": [
    {
     "name": "stdout",
     "output_type": "stream",
     "text": [
      "Accuracy Score for Our Quantum Model is 0.87\n"
     ]
    }
   ],
   "source": [
    "accuracy_score = vqc.score(X_test_q,y_test_oh)\n",
    "print (f\"Accuracy Score for Our Quantum Model is {accuracy_score}\")"
   ]
  },
  {
   "cell_type": "code",
   "execution_count": null,
   "id": "01131fb1",
   "metadata": {},
   "outputs": [],
   "source": []
  }
 ],
 "metadata": {
  "kernelspec": {
   "display_name": "Python 3 (ipykernel)",
   "language": "python",
   "name": "python3"
  },
  "language_info": {
   "codemirror_mode": {
    "name": "ipython",
    "version": 3
   },
   "file_extension": ".py",
   "mimetype": "text/x-python",
   "name": "python",
   "nbconvert_exporter": "python",
   "pygments_lexer": "ipython3",
   "version": "3.9.13"
  }
 },
 "nbformat": 4,
 "nbformat_minor": 5
}
