{
 "cells": [
  {
   "cell_type": "markdown",
   "id": "3cd51f7c",
   "metadata": {},
   "source": [
    "# INTRODUCTION TO THE BACKWARD PASS\n",
    "\n",
    "A Backward Pass in Neural Networks can be used for optimization of losses using gradient descent. \n",
    "I will refer to the Pytorch Module, in it loss.backward() seems a similar methodology that we are studying.\n",
    "\n",
    "The Purpose of this project  is to demonstrate how to perform a backward pass on Quantum Neural Networks.As you might recall\n",
    "from previous notebooks ,there are two type of Networks : And their implementation will also differ slightly.It is worth to \n",
    "Mention that there is a slight difference between the Estiamtor QNN and Sampler QNN ,that is while Estimator QNN takes\n",
    "in observables ,the SamplerQNN feed directly into a quantum circuit.Also The Output in a Sampler QNN depends on whether or not we \n",
    "have an interpret function\n",
    "The Backward Pass is then calculated with repect to the input and weights .It returns a tuple of input_gradients and weight gradients\n",
    "\n"
   ]
  },
  {
   "cell_type": "code",
   "execution_count": null,
   "id": "ce319029",
   "metadata": {},
   "outputs": [],
   "source": [
    "# importing dependencies\n",
    "import qiskit\n",
    "from qiskit import QuantumCircuit,QuantumRegister\n",
    "import qiskit_machine_learning\n",
    "from qiskit_machine_learning.neural_networks import SamplerQNN,EstimatorQNN\n",
    "from qiskit.quantum_info import SparsePauliOp\n",
    "from qiskit.circuit import Parameter,ParameterVector\n",
    "\n",
    "from qiskit.utils import algorithm_globals\n",
    "algorithm_globals.random_seed= 42"
   ]
  },
  {
   "cell_type": "markdown",
   "id": "8585fa95",
   "metadata": {},
   "source": [
    "# ESTIMATOR QNN :: BACKWARD PASS"
   ]
  },
  {
   "cell_type": "code",
   "execution_count": null,
   "id": "a1b84151",
   "metadata": {},
   "outputs": [],
   "source": [
    "# Lets define the parameters for our estimator qnn\n",
    "# Create a quantum circuit\n",
    "qc1 = QuantumCircuit(2)\n",
    "parameters = [Parameter(\"estim_input\"),Parameter(\"estim_weight\")]\n",
    "qc1.h(0)\n",
    "qc1.ry(parameters[0],0)\n",
    "qc1.rx(parameters[1],1)\n",
    "qc1.draw(\"mpl\")"
   ]
  },
  {
   "cell_type": "code",
   "execution_count": null,
   "id": "2895f313",
   "metadata": {},
   "outputs": [],
   "source": [
    "# Create an Observable ,\n",
    "observable = SparsePauliOp.from_list([(\"Y\"*qc1.num_qubits,1)])"
   ]
  },
  {
   "cell_type": "code",
   "execution_count": null,
   "id": "e3163869",
   "metadata": {},
   "outputs": [],
   "source": [
    "# Instantiate our Estimator QNN\n",
    "estimator_qnn = EstimatorQNN(observables=observable,circuit=qc1,input_params=[parameters[0]],weight_params = [parameters[1]])"
   ]
  },
  {
   "cell_type": "code",
   "execution_count": null,
   "id": "5be65478",
   "metadata": {},
   "outputs": [],
   "source": [
    "estimator_qnn.weight_params"
   ]
  },
  {
   "cell_type": "code",
   "execution_count": null,
   "id": "6f5506b8",
   "metadata": {},
   "outputs": [],
   "source": [
    "# Now We can create some dummy data using algorithm globals \n",
    "estimator_qnn_input = algorithm_globals.random.random(estimator_qnn.num_inputs)\n",
    "estimator_qnn_weights = algorithm_globals.random.random(estimator_qnn.num_weights)"
   ]
  },
  {
   "cell_type": "code",
   "execution_count": null,
   "id": "c42a31d5",
   "metadata": {},
   "outputs": [],
   "source": [
    "estimator_qnn_input"
   ]
  },
  {
   "cell_type": "markdown",
   "id": "ce46d0f3",
   "metadata": {},
   "source": [
    "# Backward Pass without Input_Gradients \n",
    "The Output Shape for Estimator QNN = (BATCH_SIZE,NUM_QUBITS*NUM_OBSERVABLES,NUM_WEIGHTS)"
   ]
  },
  {
   "cell_type": "code",
   "execution_count": null,
   "id": "d14f1c4c",
   "metadata": {},
   "outputs": [],
   "source": [
    "e_qnn_input_grad,e_qnn_weight_grad = estimator_qnn.backward(estimator_qnn_input,estimator_qnn_weights)\n",
    "print(f\"The Estimator QNN input gradients are {e_qnn_input_grad} and the shape is \\n Shape:{e_qnn_input_grad}\")\n",
    "print(f\"The Estimator QNN input gradients are {e_qnn_weight_grad} and the shape is \\n{e_qnn_weight_grad.shape}\")"
   ]
  },
  {
   "cell_type": "markdown",
   "id": "2078289e",
   "metadata": {},
   "source": [
    "# Backward Pass with Input_Gradients "
   ]
  },
  {
   "cell_type": "code",
   "execution_count": null,
   "id": "7c73f1eb",
   "metadata": {},
   "outputs": [],
   "source": [
    "# Set the Input Gradients to be equal to True\n",
    "estimator_qnn.input_gradients = True # Has a similarity to model.forward.lstm or model.forward.>>"
   ]
  },
  {
   "cell_type": "code",
   "execution_count": null,
   "id": "7096be86",
   "metadata": {},
   "outputs": [],
   "source": [
    "e_qnn_input_grad,e_qnn_weight_grad = estimator_qnn.backward(estimator_qnn_input,estimator_qnn_weights)\n",
    "print(f\"The Estimator QNN input gradients are {e_qnn_input_grad} and the shape is \\nShape:{e_qnn_input_grad.shape}\")\n",
    "print(f\"The Estimator QNN Weight gradients are {e_qnn_weight_grad} and the shape is \\n{e_qnn_weight_grad.shape}\")"
   ]
  },
  {
   "cell_type": "markdown",
   "id": "649c0317",
   "metadata": {},
   "source": [
    "# SAMPLER QNN BACKWARD PASS "
   ]
  },
  {
   "cell_type": "code",
   "execution_count": null,
   "id": "95027a74",
   "metadata": {},
   "outputs": [],
   "source": [
    "# Lets define our quantum_circuit\n",
    "qc2 = QuantumCircuit(2)\n",
    "sampler_input = ParameterVector(\"input\",2)\n",
    "sampler_weight  = ParameterVector(\"weight\",4)\n",
    "qc2.h(0)\n",
    "qc2.ry=(sampler_input[0],0)\n",
    "qc2.ry=(sampler_input[1],1)\n",
    "qc2.cx(0,1)\n",
    "qc2.ry= (sampler_weight[0],0)\n",
    "qc2.ry= (sampler_weight[1],1)\n",
    "qc2.cx(0,1)\n",
    "qc2.ry = (sampler_weight[2],0)\n",
    "qc2.ry = (sampler_weight[3],1)\n",
    "qc2.draw(\"mpl\")"
   ]
  },
  {
   "cell_type": "code",
   "execution_count": null,
   "id": "9cc5ccab",
   "metadata": {},
   "outputs": [],
   "source": [
    "sampler_qnn = SamplerQNN(circuit=qc2,input_params=sampler_input,weight_params=sampler_weight)"
   ]
  },
  {
   "cell_type": "code",
   "execution_count": null,
   "id": "10eacb20",
   "metadata": {},
   "outputs": [],
   "source": [
    "sampler_input = algorithm_globals.random.random(sampler_qnn.num_inputs)\n",
    "sampler_weights = algorithm_globals.random.random(sampler_qnn.num_weights)"
   ]
  },
  {
   "cell_type": "code",
   "execution_count": null,
   "id": "7ff6438c",
   "metadata": {},
   "outputs": [],
   "source": [
    "sampler_input"
   ]
  },
  {
   "cell_type": "code",
   "execution_count": null,
   "id": "443c66ca",
   "metadata": {},
   "outputs": [],
   "source": [
    "sampler_weights"
   ]
  },
  {
   "cell_type": "code",
   "execution_count": null,
   "id": "6f921a38",
   "metadata": {},
   "outputs": [],
   "source": [
    "sampler_input.shape ,sampler_weights.shape"
   ]
  },
  {
   "cell_type": "code",
   "execution_count": null,
   "id": "bbfe1dde",
   "metadata": {},
   "outputs": [],
   "source": [
    "s_qnn_input_grad,s_qnn_weight_grad = sampler_qnn.forward(sampler_input,sampler_weights)"
   ]
  },
  {
   "cell_type": "code",
   "execution_count": null,
   "id": "18a7d3a7",
   "metadata": {},
   "outputs": [],
   "source": [
    "s_qnn_input_grad,s_qnn_weight_grad = sampler_qnn.backward(sampler_input,sampler_weights)"
   ]
  },
  {
   "cell_type": "code",
   "execution_count": null,
   "id": "650b6dac",
   "metadata": {},
   "outputs": [],
   "source": [
    "class NeuralNetworks(qiskit_machine_learning.neural_networks):\n",
    "    pass"
   ]
  },
  {
   "cell_type": "markdown",
   "id": "6eb2b8cf",
   "metadata": {},
   "source": [
    "# REFERENCES\n",
    "https://qiskit.org/ecosystem/machine-learning/tutorials/01_neural_networks.html"
   ]
  },
  {
   "cell_type": "code",
   "execution_count": null,
   "id": "b783faee",
   "metadata": {},
   "outputs": [],
   "source": []
  }
 ],
 "metadata": {
  "kernelspec": {
   "display_name": "Python 3 (ipykernel)",
   "language": "python",
   "name": "python3"
  },
  "language_info": {
   "codemirror_mode": {
    "name": "ipython",
    "version": 3
   },
   "file_extension": ".py",
   "mimetype": "text/x-python",
   "name": "python",
   "nbconvert_exporter": "python",
   "pygments_lexer": "ipython3",
   "version": "3.9.13"
  }
 },
 "nbformat": 4,
 "nbformat_minor": 5
}
